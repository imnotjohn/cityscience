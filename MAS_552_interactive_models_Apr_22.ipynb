{
  "nbformat": 4,
  "nbformat_minor": 0,
  "metadata": {
    "colab": {
      "provenance": [],
      "toc_visible": true,
      "include_colab_link": true
    },
    "kernelspec": {
      "name": "python3",
      "display_name": "Python 3"
    },
    "language_info": {
      "name": "python"
    },
    "widgets": {
      "application/vnd.jupyter.widget-state+json": {
        "f101af9d06ff4c378a1320014599da3f": {
          "model_module": "@unfolded/jupyter-map-sdk",
          "model_name": "UnfoldedMapModel",
          "model_module_version": "0.7.1",
          "state": {
            "_basemap_style": "",
            "_dom_classes": [],
            "_identity_pool_id": "",
            "_map_implementation": "",
            "_model_module": "@unfolded/jupyter-map-sdk",
            "_model_module_version": "0.7.1",
            "_model_name": "UnfoldedMapModel",
            "_namespace": "",
            "_sdkUrl": "",
            "_sdk_url": "",
            "_view_count": null,
            "_view_module": "@unfolded/jupyter-map-sdk",
            "_view_module_version": "0.7.1",
            "_view_name": "UnfoldedMapView",
            "height": 500,
            "iframe": true,
            "layout": "IPY_MODEL_1d34649c592a422c9f9441822560009b",
            "mapUUID": "",
            "mapUrl": "",
            "map_url": "",
            "map_uuid": "",
            "width": "100%",
            "map": {
              "eventHandlers": {
                "mapUUID": "",
                "mapUrl": "",
                "appendToDocument": false,
                "width": "100%",
                "height": 500,
                "embed": true
              },
              "iframe": {},
              "_transport": {
                "sourceClient": "unfolded-sdk-client",
                "sourceServer": "unfolded-sdk-server",
                "iframe": {}
              }
            }
          }
        },
        "1d34649c592a422c9f9441822560009b": {
          "model_module": "@jupyter-widgets/base",
          "model_name": "LayoutModel",
          "model_module_version": "1.2.0",
          "state": {
            "_model_module": "@jupyter-widgets/base",
            "_model_module_version": "1.2.0",
            "_model_name": "LayoutModel",
            "_view_count": null,
            "_view_module": "@jupyter-widgets/base",
            "_view_module_version": "1.2.0",
            "_view_name": "LayoutView",
            "align_content": null,
            "align_items": null,
            "align_self": null,
            "border": null,
            "bottom": null,
            "display": null,
            "flex": null,
            "flex_flow": null,
            "grid_area": null,
            "grid_auto_columns": null,
            "grid_auto_flow": null,
            "grid_auto_rows": null,
            "grid_column": null,
            "grid_gap": null,
            "grid_row": null,
            "grid_template_areas": null,
            "grid_template_columns": null,
            "grid_template_rows": null,
            "height": null,
            "justify_content": null,
            "justify_items": null,
            "left": null,
            "margin": null,
            "max_height": null,
            "max_width": null,
            "min_height": null,
            "min_width": null,
            "object_fit": null,
            "object_position": null,
            "order": null,
            "overflow": null,
            "overflow_x": null,
            "overflow_y": null,
            "padding": null,
            "right": null,
            "top": null,
            "visibility": null,
            "width": null
          }
        },
        "da3a92538a78460f9fe5506477fc98bc": {
          "model_module": "@unfolded/jupyter-map-sdk",
          "model_name": "UnfoldedMapModel",
          "model_module_version": "0.7.1",
          "state": {
            "_basemap_style": "",
            "_dom_classes": [],
            "_identity_pool_id": "",
            "_map_implementation": "",
            "_model_module": "@unfolded/jupyter-map-sdk",
            "_model_module_version": "0.7.1",
            "_model_name": "UnfoldedMapModel",
            "_namespace": "",
            "_sdkUrl": "",
            "_sdk_url": "",
            "_view_count": null,
            "_view_module": "@unfolded/jupyter-map-sdk",
            "_view_module_version": "0.7.1",
            "_view_name": "UnfoldedMapView",
            "height": 500,
            "iframe": true,
            "layout": "IPY_MODEL_d90d0ecd31ec4a699d480b6a8a607eb4",
            "mapUUID": "",
            "mapUrl": "",
            "map_url": "",
            "map_uuid": "",
            "width": "100%",
            "map": {
              "eventHandlers": {
                "mapUUID": "",
                "mapUrl": "",
                "appendToDocument": false,
                "width": "100%",
                "height": 500,
                "embed": true
              },
              "iframe": {},
              "_transport": {
                "sourceClient": "unfolded-sdk-client",
                "sourceServer": "unfolded-sdk-server",
                "iframe": {}
              }
            }
          }
        },
        "d90d0ecd31ec4a699d480b6a8a607eb4": {
          "model_module": "@jupyter-widgets/base",
          "model_name": "LayoutModel",
          "model_module_version": "1.2.0",
          "state": {
            "_model_module": "@jupyter-widgets/base",
            "_model_module_version": "1.2.0",
            "_model_name": "LayoutModel",
            "_view_count": null,
            "_view_module": "@jupyter-widgets/base",
            "_view_module_version": "1.2.0",
            "_view_name": "LayoutView",
            "align_content": null,
            "align_items": null,
            "align_self": null,
            "border": null,
            "bottom": null,
            "display": null,
            "flex": null,
            "flex_flow": null,
            "grid_area": null,
            "grid_auto_columns": null,
            "grid_auto_flow": null,
            "grid_auto_rows": null,
            "grid_column": null,
            "grid_gap": null,
            "grid_row": null,
            "grid_template_areas": null,
            "grid_template_columns": null,
            "grid_template_rows": null,
            "height": null,
            "justify_content": null,
            "justify_items": null,
            "left": null,
            "margin": null,
            "max_height": null,
            "max_width": null,
            "min_height": null,
            "min_width": null,
            "object_fit": null,
            "object_position": null,
            "order": null,
            "overflow": null,
            "overflow_x": null,
            "overflow_y": null,
            "padding": null,
            "right": null,
            "top": null,
            "visibility": null,
            "width": null
          }
        },
        "71f33323cc4946ef85fbac6d3de8931b": {
          "model_module": "@jupyter-widgets/controls",
          "model_name": "VBoxModel",
          "model_module_version": "1.5.0",
          "state": {
            "_dom_classes": [
              "widget-interact"
            ],
            "_model_module": "@jupyter-widgets/controls",
            "_model_module_version": "1.5.0",
            "_model_name": "VBoxModel",
            "_view_count": null,
            "_view_module": "@jupyter-widgets/controls",
            "_view_module_version": "1.5.0",
            "_view_name": "VBoxView",
            "box_style": "",
            "children": [
              "IPY_MODEL_1629f68f47c7420a80d0ae28971e22f9",
              "IPY_MODEL_60a47bcb22e744dbb7a331f99aac8479",
              "IPY_MODEL_ce07f88e34264b13b818f4bf93c801e9",
              "IPY_MODEL_0af610fe6dce4e499ac5208921fcec71",
              "IPY_MODEL_f3add395fade45c6bb869d11b4b69bce",
              "IPY_MODEL_a824be678d0d44b687b9451eabf39a2a"
            ],
            "layout": "IPY_MODEL_56f9f90e72204eefaa1890487b7e8bc2"
          }
        },
        "1629f68f47c7420a80d0ae28971e22f9": {
          "model_module": "@jupyter-widgets/controls",
          "model_name": "IntSliderModel",
          "model_module_version": "1.5.0",
          "state": {
            "_dom_classes": [],
            "_model_module": "@jupyter-widgets/controls",
            "_model_module_version": "1.5.0",
            "_model_name": "IntSliderModel",
            "_view_count": null,
            "_view_module": "@jupyter-widgets/controls",
            "_view_module_version": "1.5.0",
            "_view_name": "IntSliderView",
            "continuous_update": true,
            "description": "office_floors",
            "description_tooltip": null,
            "disabled": false,
            "layout": "IPY_MODEL_ea0ecd236a0943ba9fb3a59dc16bceef",
            "max": 100,
            "min": 0,
            "orientation": "horizontal",
            "readout": true,
            "readout_format": "d",
            "step": 1,
            "style": "IPY_MODEL_d0d661851ec24b15aa6315fa94a71f97",
            "value": 81
          }
        },
        "60a47bcb22e744dbb7a331f99aac8479": {
          "model_module": "@jupyter-widgets/controls",
          "model_name": "IntSliderModel",
          "model_module_version": "1.5.0",
          "state": {
            "_dom_classes": [],
            "_model_module": "@jupyter-widgets/controls",
            "_model_module_version": "1.5.0",
            "_model_name": "IntSliderModel",
            "_view_count": null,
            "_view_module": "@jupyter-widgets/controls",
            "_view_module_version": "1.5.0",
            "_view_name": "IntSliderView",
            "continuous_update": true,
            "description": "resi_floors",
            "description_tooltip": null,
            "disabled": false,
            "layout": "IPY_MODEL_221fd1a492ae43e4a09e2bd8dada1cf1",
            "max": 100,
            "min": 0,
            "orientation": "horizontal",
            "readout": true,
            "readout_format": "d",
            "step": 1,
            "style": "IPY_MODEL_2320b5bcfe1441288707f1f97870d7c9",
            "value": 10
          }
        },
        "ce07f88e34264b13b818f4bf93c801e9": {
          "model_module": "@jupyter-widgets/controls",
          "model_name": "IntSliderModel",
          "model_module_version": "1.5.0",
          "state": {
            "_dom_classes": [],
            "_model_module": "@jupyter-widgets/controls",
            "_model_module_version": "1.5.0",
            "_model_name": "IntSliderModel",
            "_view_count": null,
            "_view_module": "@jupyter-widgets/controls",
            "_view_module_version": "1.5.0",
            "_view_name": "IntSliderView",
            "continuous_update": true,
            "description": "sqm_pp_resi",
            "description_tooltip": null,
            "disabled": false,
            "layout": "IPY_MODEL_b9e326f1ef7f40be8dcca09a9e59a414",
            "max": 200,
            "min": 50,
            "orientation": "horizontal",
            "readout": true,
            "readout_format": "d",
            "step": 5,
            "style": "IPY_MODEL_da6ac413b6084f5ea3b262e7e82b9b7e",
            "value": 100
          }
        },
        "0af610fe6dce4e499ac5208921fcec71": {
          "model_module": "@jupyter-widgets/controls",
          "model_name": "IntSliderModel",
          "model_module_version": "1.5.0",
          "state": {
            "_dom_classes": [],
            "_model_module": "@jupyter-widgets/controls",
            "_model_module_version": "1.5.0",
            "_model_name": "IntSliderModel",
            "_view_count": null,
            "_view_module": "@jupyter-widgets/controls",
            "_view_module_version": "1.5.0",
            "_view_name": "IntSliderView",
            "continuous_update": true,
            "description": "sqm_pp_office",
            "description_tooltip": null,
            "disabled": false,
            "layout": "IPY_MODEL_5954941233014759a2b4e60c2e605e91",
            "max": 200,
            "min": 50,
            "orientation": "horizontal",
            "readout": true,
            "readout_format": "d",
            "step": 5,
            "style": "IPY_MODEL_6c664121738249c78fb9b435c1ed9bc3",
            "value": 100
          }
        },
        "f3add395fade45c6bb869d11b4b69bce": {
          "model_module": "@jupyter-widgets/controls",
          "model_name": "IntSliderModel",
          "model_module_version": "1.5.0",
          "state": {
            "_dom_classes": [],
            "_model_module": "@jupyter-widgets/controls",
            "_model_module_version": "1.5.0",
            "_model_name": "IntSliderModel",
            "_view_count": null,
            "_view_module": "@jupyter-widgets/controls",
            "_view_module_version": "1.5.0",
            "_view_name": "IntSliderView",
            "continuous_update": true,
            "description": "resi_perc",
            "description_tooltip": null,
            "disabled": false,
            "layout": "IPY_MODEL_8e7d15d1ec714143892aa7df1fff1c95",
            "max": 100,
            "min": 0,
            "orientation": "horizontal",
            "readout": true,
            "readout_format": "d",
            "step": 1,
            "style": "IPY_MODEL_cea98a8b8f8140acb18a31384d105cc9",
            "value": 50
          }
        },
        "a824be678d0d44b687b9451eabf39a2a": {
          "model_module": "@jupyter-widgets/output",
          "model_name": "OutputModel",
          "model_module_version": "1.0.0",
          "state": {
            "_dom_classes": [],
            "_model_module": "@jupyter-widgets/output",
            "_model_module_version": "1.0.0",
            "_model_name": "OutputModel",
            "_view_count": null,
            "_view_module": "@jupyter-widgets/output",
            "_view_module_version": "1.0.0",
            "_view_name": "OutputView",
            "layout": "IPY_MODEL_073dc44627f8471bb5af69db6b16d6e1",
            "msg_id": "",
            "outputs": []
          }
        },
        "56f9f90e72204eefaa1890487b7e8bc2": {
          "model_module": "@jupyter-widgets/base",
          "model_name": "LayoutModel",
          "model_module_version": "1.2.0",
          "state": {
            "_model_module": "@jupyter-widgets/base",
            "_model_module_version": "1.2.0",
            "_model_name": "LayoutModel",
            "_view_count": null,
            "_view_module": "@jupyter-widgets/base",
            "_view_module_version": "1.2.0",
            "_view_name": "LayoutView",
            "align_content": null,
            "align_items": null,
            "align_self": null,
            "border": null,
            "bottom": null,
            "display": null,
            "flex": null,
            "flex_flow": null,
            "grid_area": null,
            "grid_auto_columns": null,
            "grid_auto_flow": null,
            "grid_auto_rows": null,
            "grid_column": null,
            "grid_gap": null,
            "grid_row": null,
            "grid_template_areas": null,
            "grid_template_columns": null,
            "grid_template_rows": null,
            "height": null,
            "justify_content": null,
            "justify_items": null,
            "left": null,
            "margin": null,
            "max_height": null,
            "max_width": null,
            "min_height": null,
            "min_width": null,
            "object_fit": null,
            "object_position": null,
            "order": null,
            "overflow": null,
            "overflow_x": null,
            "overflow_y": null,
            "padding": null,
            "right": null,
            "top": null,
            "visibility": null,
            "width": null
          }
        },
        "ea0ecd236a0943ba9fb3a59dc16bceef": {
          "model_module": "@jupyter-widgets/base",
          "model_name": "LayoutModel",
          "model_module_version": "1.2.0",
          "state": {
            "_model_module": "@jupyter-widgets/base",
            "_model_module_version": "1.2.0",
            "_model_name": "LayoutModel",
            "_view_count": null,
            "_view_module": "@jupyter-widgets/base",
            "_view_module_version": "1.2.0",
            "_view_name": "LayoutView",
            "align_content": null,
            "align_items": null,
            "align_self": null,
            "border": null,
            "bottom": null,
            "display": null,
            "flex": null,
            "flex_flow": null,
            "grid_area": null,
            "grid_auto_columns": null,
            "grid_auto_flow": null,
            "grid_auto_rows": null,
            "grid_column": null,
            "grid_gap": null,
            "grid_row": null,
            "grid_template_areas": null,
            "grid_template_columns": null,
            "grid_template_rows": null,
            "height": null,
            "justify_content": null,
            "justify_items": null,
            "left": null,
            "margin": null,
            "max_height": null,
            "max_width": null,
            "min_height": null,
            "min_width": null,
            "object_fit": null,
            "object_position": null,
            "order": null,
            "overflow": null,
            "overflow_x": null,
            "overflow_y": null,
            "padding": null,
            "right": null,
            "top": null,
            "visibility": null,
            "width": null
          }
        },
        "d0d661851ec24b15aa6315fa94a71f97": {
          "model_module": "@jupyter-widgets/controls",
          "model_name": "SliderStyleModel",
          "model_module_version": "1.5.0",
          "state": {
            "_model_module": "@jupyter-widgets/controls",
            "_model_module_version": "1.5.0",
            "_model_name": "SliderStyleModel",
            "_view_count": null,
            "_view_module": "@jupyter-widgets/base",
            "_view_module_version": "1.2.0",
            "_view_name": "StyleView",
            "description_width": "",
            "handle_color": null
          }
        },
        "221fd1a492ae43e4a09e2bd8dada1cf1": {
          "model_module": "@jupyter-widgets/base",
          "model_name": "LayoutModel",
          "model_module_version": "1.2.0",
          "state": {
            "_model_module": "@jupyter-widgets/base",
            "_model_module_version": "1.2.0",
            "_model_name": "LayoutModel",
            "_view_count": null,
            "_view_module": "@jupyter-widgets/base",
            "_view_module_version": "1.2.0",
            "_view_name": "LayoutView",
            "align_content": null,
            "align_items": null,
            "align_self": null,
            "border": null,
            "bottom": null,
            "display": null,
            "flex": null,
            "flex_flow": null,
            "grid_area": null,
            "grid_auto_columns": null,
            "grid_auto_flow": null,
            "grid_auto_rows": null,
            "grid_column": null,
            "grid_gap": null,
            "grid_row": null,
            "grid_template_areas": null,
            "grid_template_columns": null,
            "grid_template_rows": null,
            "height": null,
            "justify_content": null,
            "justify_items": null,
            "left": null,
            "margin": null,
            "max_height": null,
            "max_width": null,
            "min_height": null,
            "min_width": null,
            "object_fit": null,
            "object_position": null,
            "order": null,
            "overflow": null,
            "overflow_x": null,
            "overflow_y": null,
            "padding": null,
            "right": null,
            "top": null,
            "visibility": null,
            "width": null
          }
        },
        "2320b5bcfe1441288707f1f97870d7c9": {
          "model_module": "@jupyter-widgets/controls",
          "model_name": "SliderStyleModel",
          "model_module_version": "1.5.0",
          "state": {
            "_model_module": "@jupyter-widgets/controls",
            "_model_module_version": "1.5.0",
            "_model_name": "SliderStyleModel",
            "_view_count": null,
            "_view_module": "@jupyter-widgets/base",
            "_view_module_version": "1.2.0",
            "_view_name": "StyleView",
            "description_width": "",
            "handle_color": null
          }
        },
        "b9e326f1ef7f40be8dcca09a9e59a414": {
          "model_module": "@jupyter-widgets/base",
          "model_name": "LayoutModel",
          "model_module_version": "1.2.0",
          "state": {
            "_model_module": "@jupyter-widgets/base",
            "_model_module_version": "1.2.0",
            "_model_name": "LayoutModel",
            "_view_count": null,
            "_view_module": "@jupyter-widgets/base",
            "_view_module_version": "1.2.0",
            "_view_name": "LayoutView",
            "align_content": null,
            "align_items": null,
            "align_self": null,
            "border": null,
            "bottom": null,
            "display": null,
            "flex": null,
            "flex_flow": null,
            "grid_area": null,
            "grid_auto_columns": null,
            "grid_auto_flow": null,
            "grid_auto_rows": null,
            "grid_column": null,
            "grid_gap": null,
            "grid_row": null,
            "grid_template_areas": null,
            "grid_template_columns": null,
            "grid_template_rows": null,
            "height": null,
            "justify_content": null,
            "justify_items": null,
            "left": null,
            "margin": null,
            "max_height": null,
            "max_width": null,
            "min_height": null,
            "min_width": null,
            "object_fit": null,
            "object_position": null,
            "order": null,
            "overflow": null,
            "overflow_x": null,
            "overflow_y": null,
            "padding": null,
            "right": null,
            "top": null,
            "visibility": null,
            "width": null
          }
        },
        "da6ac413b6084f5ea3b262e7e82b9b7e": {
          "model_module": "@jupyter-widgets/controls",
          "model_name": "SliderStyleModel",
          "model_module_version": "1.5.0",
          "state": {
            "_model_module": "@jupyter-widgets/controls",
            "_model_module_version": "1.5.0",
            "_model_name": "SliderStyleModel",
            "_view_count": null,
            "_view_module": "@jupyter-widgets/base",
            "_view_module_version": "1.2.0",
            "_view_name": "StyleView",
            "description_width": "",
            "handle_color": null
          }
        },
        "5954941233014759a2b4e60c2e605e91": {
          "model_module": "@jupyter-widgets/base",
          "model_name": "LayoutModel",
          "model_module_version": "1.2.0",
          "state": {
            "_model_module": "@jupyter-widgets/base",
            "_model_module_version": "1.2.0",
            "_model_name": "LayoutModel",
            "_view_count": null,
            "_view_module": "@jupyter-widgets/base",
            "_view_module_version": "1.2.0",
            "_view_name": "LayoutView",
            "align_content": null,
            "align_items": null,
            "align_self": null,
            "border": null,
            "bottom": null,
            "display": null,
            "flex": null,
            "flex_flow": null,
            "grid_area": null,
            "grid_auto_columns": null,
            "grid_auto_flow": null,
            "grid_auto_rows": null,
            "grid_column": null,
            "grid_gap": null,
            "grid_row": null,
            "grid_template_areas": null,
            "grid_template_columns": null,
            "grid_template_rows": null,
            "height": null,
            "justify_content": null,
            "justify_items": null,
            "left": null,
            "margin": null,
            "max_height": null,
            "max_width": null,
            "min_height": null,
            "min_width": null,
            "object_fit": null,
            "object_position": null,
            "order": null,
            "overflow": null,
            "overflow_x": null,
            "overflow_y": null,
            "padding": null,
            "right": null,
            "top": null,
            "visibility": null,
            "width": null
          }
        },
        "6c664121738249c78fb9b435c1ed9bc3": {
          "model_module": "@jupyter-widgets/controls",
          "model_name": "SliderStyleModel",
          "model_module_version": "1.5.0",
          "state": {
            "_model_module": "@jupyter-widgets/controls",
            "_model_module_version": "1.5.0",
            "_model_name": "SliderStyleModel",
            "_view_count": null,
            "_view_module": "@jupyter-widgets/base",
            "_view_module_version": "1.2.0",
            "_view_name": "StyleView",
            "description_width": "",
            "handle_color": null
          }
        },
        "8e7d15d1ec714143892aa7df1fff1c95": {
          "model_module": "@jupyter-widgets/base",
          "model_name": "LayoutModel",
          "model_module_version": "1.2.0",
          "state": {
            "_model_module": "@jupyter-widgets/base",
            "_model_module_version": "1.2.0",
            "_model_name": "LayoutModel",
            "_view_count": null,
            "_view_module": "@jupyter-widgets/base",
            "_view_module_version": "1.2.0",
            "_view_name": "LayoutView",
            "align_content": null,
            "align_items": null,
            "align_self": null,
            "border": null,
            "bottom": null,
            "display": null,
            "flex": null,
            "flex_flow": null,
            "grid_area": null,
            "grid_auto_columns": null,
            "grid_auto_flow": null,
            "grid_auto_rows": null,
            "grid_column": null,
            "grid_gap": null,
            "grid_row": null,
            "grid_template_areas": null,
            "grid_template_columns": null,
            "grid_template_rows": null,
            "height": null,
            "justify_content": null,
            "justify_items": null,
            "left": null,
            "margin": null,
            "max_height": null,
            "max_width": null,
            "min_height": null,
            "min_width": null,
            "object_fit": null,
            "object_position": null,
            "order": null,
            "overflow": null,
            "overflow_x": null,
            "overflow_y": null,
            "padding": null,
            "right": null,
            "top": null,
            "visibility": null,
            "width": null
          }
        },
        "cea98a8b8f8140acb18a31384d105cc9": {
          "model_module": "@jupyter-widgets/controls",
          "model_name": "SliderStyleModel",
          "model_module_version": "1.5.0",
          "state": {
            "_model_module": "@jupyter-widgets/controls",
            "_model_module_version": "1.5.0",
            "_model_name": "SliderStyleModel",
            "_view_count": null,
            "_view_module": "@jupyter-widgets/base",
            "_view_module_version": "1.2.0",
            "_view_name": "StyleView",
            "description_width": "",
            "handle_color": null
          }
        },
        "073dc44627f8471bb5af69db6b16d6e1": {
          "model_module": "@jupyter-widgets/base",
          "model_name": "LayoutModel",
          "model_module_version": "1.2.0",
          "state": {
            "_model_module": "@jupyter-widgets/base",
            "_model_module_version": "1.2.0",
            "_model_name": "LayoutModel",
            "_view_count": null,
            "_view_module": "@jupyter-widgets/base",
            "_view_module_version": "1.2.0",
            "_view_name": "LayoutView",
            "align_content": null,
            "align_items": null,
            "align_self": null,
            "border": null,
            "bottom": null,
            "display": null,
            "flex": null,
            "flex_flow": null,
            "grid_area": null,
            "grid_auto_columns": null,
            "grid_auto_flow": null,
            "grid_auto_rows": null,
            "grid_column": null,
            "grid_gap": null,
            "grid_row": null,
            "grid_template_areas": null,
            "grid_template_columns": null,
            "grid_template_rows": null,
            "height": null,
            "justify_content": null,
            "justify_items": null,
            "left": null,
            "margin": null,
            "max_height": null,
            "max_width": null,
            "min_height": null,
            "min_width": null,
            "object_fit": null,
            "object_position": null,
            "order": null,
            "overflow": null,
            "overflow_x": null,
            "overflow_y": null,
            "padding": null,
            "right": null,
            "top": null,
            "visibility": null,
            "width": null
          }
        },
        "c90c492a5fbc43c8be290cbcd18ce00e": {
          "model_module": "@unfolded/jupyter-map-sdk",
          "model_name": "UnfoldedMapModel",
          "model_module_version": "1.10.1",
          "state": {
            "_dom_classes": [],
            "_internal": {},
            "_model_module": "@unfolded/jupyter-map-sdk",
            "_model_module_version": "1.10.1",
            "_model_name": "UnfoldedMapModel",
            "_view_count": null,
            "_view_module": "@unfolded/jupyter-map-sdk",
            "_view_module_version": "1.10.1",
            "_view_name": "UnfoldedMapView",
            "basemaps": {},
            "layout": "IPY_MODEL_bd140a60c0884533be9ab559584c937f",
            "raster": {},
            "style": {
              "height": 500,
              "width": "100%"
            },
            "urls": {},
            "map": {
              "_eventHandlers": {},
              "container": null,
              "store": {}
            }
          }
        },
        "bd140a60c0884533be9ab559584c937f": {
          "model_module": "@jupyter-widgets/base",
          "model_name": "LayoutModel",
          "model_module_version": "1.2.0",
          "state": {
            "_model_module": "@jupyter-widgets/base",
            "_model_module_version": "1.2.0",
            "_model_name": "LayoutModel",
            "_view_count": null,
            "_view_module": "@jupyter-widgets/base",
            "_view_module_version": "1.2.0",
            "_view_name": "LayoutView",
            "align_content": null,
            "align_items": null,
            "align_self": null,
            "border": null,
            "bottom": null,
            "display": null,
            "flex": null,
            "flex_flow": null,
            "grid_area": null,
            "grid_auto_columns": null,
            "grid_auto_flow": null,
            "grid_auto_rows": null,
            "grid_column": null,
            "grid_gap": null,
            "grid_row": null,
            "grid_template_areas": null,
            "grid_template_columns": null,
            "grid_template_rows": null,
            "height": null,
            "justify_content": null,
            "justify_items": null,
            "left": null,
            "margin": null,
            "max_height": null,
            "max_width": null,
            "min_height": null,
            "min_width": null,
            "object_fit": null,
            "object_position": null,
            "order": null,
            "overflow": null,
            "overflow_x": null,
            "overflow_y": null,
            "padding": null,
            "right": null,
            "top": null,
            "visibility": null,
            "width": null
          }
        },
        "926bf9da8e154314b37855ce263b8ef9": {
          "model_module": "@jupyter-widgets/controls",
          "model_name": "VBoxModel",
          "model_module_version": "1.5.0",
          "state": {
            "_dom_classes": [
              "widget-interact"
            ],
            "_model_module": "@jupyter-widgets/controls",
            "_model_module_version": "1.5.0",
            "_model_name": "VBoxModel",
            "_view_count": null,
            "_view_module": "@jupyter-widgets/controls",
            "_view_module_version": "1.5.0",
            "_view_name": "VBoxView",
            "box_style": "",
            "children": [
              "IPY_MODEL_392c8acb887a45939daad392e19b0741",
              "IPY_MODEL_69ab154c82c241f7a197ca18e6abb6fc",
              "IPY_MODEL_fd30e021186241908f09f980db8857db",
              "IPY_MODEL_c4c0ac5b6d9545c6afbfd9915501fb49"
            ],
            "layout": "IPY_MODEL_ce4a3405159c4311b442e44d4f9d9d61"
          }
        },
        "392c8acb887a45939daad392e19b0741": {
          "model_module": "@jupyter-widgets/controls",
          "model_name": "IntSliderModel",
          "model_module_version": "1.5.0",
          "state": {
            "_dom_classes": [],
            "_model_module": "@jupyter-widgets/controls",
            "_model_module_version": "1.5.0",
            "_model_name": "IntSliderModel",
            "_view_count": null,
            "_view_module": "@jupyter-widgets/controls",
            "_view_module_version": "1.5.0",
            "_view_name": "IntSliderView",
            "continuous_update": true,
            "description": "X",
            "description_tooltip": null,
            "disabled": false,
            "layout": "IPY_MODEL_8281edff16e9409c88761ffbb840f465",
            "max": 100,
            "min": 0,
            "orientation": "horizontal",
            "readout": true,
            "readout_format": "d",
            "step": 1,
            "style": "IPY_MODEL_37677f9ef7654956b127d09e66c1fcf3",
            "value": 15
          }
        },
        "69ab154c82c241f7a197ca18e6abb6fc": {
          "model_module": "@jupyter-widgets/controls",
          "model_name": "IntSliderModel",
          "model_module_version": "1.5.0",
          "state": {
            "_dom_classes": [],
            "_model_module": "@jupyter-widgets/controls",
            "_model_module_version": "1.5.0",
            "_model_name": "IntSliderModel",
            "_view_count": null,
            "_view_module": "@jupyter-widgets/controls",
            "_view_module_version": "1.5.0",
            "_view_name": "IntSliderView",
            "continuous_update": true,
            "description": "a",
            "description_tooltip": null,
            "disabled": false,
            "layout": "IPY_MODEL_a93c76eafb8345939de7e28771ff5fb4",
            "max": 100,
            "min": 0,
            "orientation": "horizontal",
            "readout": true,
            "readout_format": "d",
            "step": 1,
            "style": "IPY_MODEL_4c37943ecfc64d119799a7899c57d663",
            "value": 37
          }
        },
        "fd30e021186241908f09f980db8857db": {
          "model_module": "@jupyter-widgets/controls",
          "model_name": "IntSliderModel",
          "model_module_version": "1.5.0",
          "state": {
            "_dom_classes": [],
            "_model_module": "@jupyter-widgets/controls",
            "_model_module_version": "1.5.0",
            "_model_name": "IntSliderModel",
            "_view_count": null,
            "_view_module": "@jupyter-widgets/controls",
            "_view_module_version": "1.5.0",
            "_view_name": "IntSliderView",
            "continuous_update": true,
            "description": "b",
            "description_tooltip": null,
            "disabled": false,
            "layout": "IPY_MODEL_8ad5bdfa04c240e5a9542f2eccae9bbe",
            "max": 50,
            "min": 0,
            "orientation": "horizontal",
            "readout": true,
            "readout_format": "d",
            "step": 1,
            "style": "IPY_MODEL_51f78ca6b1d44026a58fe81bb6d4baa0",
            "value": 9
          }
        },
        "c4c0ac5b6d9545c6afbfd9915501fb49": {
          "model_module": "@jupyter-widgets/output",
          "model_name": "OutputModel",
          "model_module_version": "1.0.0",
          "state": {
            "_dom_classes": [],
            "_model_module": "@jupyter-widgets/output",
            "_model_module_version": "1.0.0",
            "_model_name": "OutputModel",
            "_view_count": null,
            "_view_module": "@jupyter-widgets/output",
            "_view_module_version": "1.0.0",
            "_view_name": "OutputView",
            "layout": "IPY_MODEL_300688de73fe448c98cca037dabb2771",
            "msg_id": "",
            "outputs": []
          }
        },
        "ce4a3405159c4311b442e44d4f9d9d61": {
          "model_module": "@jupyter-widgets/base",
          "model_name": "LayoutModel",
          "model_module_version": "1.2.0",
          "state": {
            "_model_module": "@jupyter-widgets/base",
            "_model_module_version": "1.2.0",
            "_model_name": "LayoutModel",
            "_view_count": null,
            "_view_module": "@jupyter-widgets/base",
            "_view_module_version": "1.2.0",
            "_view_name": "LayoutView",
            "align_content": null,
            "align_items": null,
            "align_self": null,
            "border": null,
            "bottom": null,
            "display": null,
            "flex": null,
            "flex_flow": null,
            "grid_area": null,
            "grid_auto_columns": null,
            "grid_auto_flow": null,
            "grid_auto_rows": null,
            "grid_column": null,
            "grid_gap": null,
            "grid_row": null,
            "grid_template_areas": null,
            "grid_template_columns": null,
            "grid_template_rows": null,
            "height": null,
            "justify_content": null,
            "justify_items": null,
            "left": null,
            "margin": null,
            "max_height": null,
            "max_width": null,
            "min_height": null,
            "min_width": null,
            "object_fit": null,
            "object_position": null,
            "order": null,
            "overflow": null,
            "overflow_x": null,
            "overflow_y": null,
            "padding": null,
            "right": null,
            "top": null,
            "visibility": null,
            "width": null
          }
        },
        "8281edff16e9409c88761ffbb840f465": {
          "model_module": "@jupyter-widgets/base",
          "model_name": "LayoutModel",
          "model_module_version": "1.2.0",
          "state": {
            "_model_module": "@jupyter-widgets/base",
            "_model_module_version": "1.2.0",
            "_model_name": "LayoutModel",
            "_view_count": null,
            "_view_module": "@jupyter-widgets/base",
            "_view_module_version": "1.2.0",
            "_view_name": "LayoutView",
            "align_content": null,
            "align_items": null,
            "align_self": null,
            "border": null,
            "bottom": null,
            "display": null,
            "flex": null,
            "flex_flow": null,
            "grid_area": null,
            "grid_auto_columns": null,
            "grid_auto_flow": null,
            "grid_auto_rows": null,
            "grid_column": null,
            "grid_gap": null,
            "grid_row": null,
            "grid_template_areas": null,
            "grid_template_columns": null,
            "grid_template_rows": null,
            "height": null,
            "justify_content": null,
            "justify_items": null,
            "left": null,
            "margin": null,
            "max_height": null,
            "max_width": null,
            "min_height": null,
            "min_width": null,
            "object_fit": null,
            "object_position": null,
            "order": null,
            "overflow": null,
            "overflow_x": null,
            "overflow_y": null,
            "padding": null,
            "right": null,
            "top": null,
            "visibility": null,
            "width": null
          }
        },
        "37677f9ef7654956b127d09e66c1fcf3": {
          "model_module": "@jupyter-widgets/controls",
          "model_name": "SliderStyleModel",
          "model_module_version": "1.5.0",
          "state": {
            "_model_module": "@jupyter-widgets/controls",
            "_model_module_version": "1.5.0",
            "_model_name": "SliderStyleModel",
            "_view_count": null,
            "_view_module": "@jupyter-widgets/base",
            "_view_module_version": "1.2.0",
            "_view_name": "StyleView",
            "description_width": "",
            "handle_color": null
          }
        },
        "a93c76eafb8345939de7e28771ff5fb4": {
          "model_module": "@jupyter-widgets/base",
          "model_name": "LayoutModel",
          "model_module_version": "1.2.0",
          "state": {
            "_model_module": "@jupyter-widgets/base",
            "_model_module_version": "1.2.0",
            "_model_name": "LayoutModel",
            "_view_count": null,
            "_view_module": "@jupyter-widgets/base",
            "_view_module_version": "1.2.0",
            "_view_name": "LayoutView",
            "align_content": null,
            "align_items": null,
            "align_self": null,
            "border": null,
            "bottom": null,
            "display": null,
            "flex": null,
            "flex_flow": null,
            "grid_area": null,
            "grid_auto_columns": null,
            "grid_auto_flow": null,
            "grid_auto_rows": null,
            "grid_column": null,
            "grid_gap": null,
            "grid_row": null,
            "grid_template_areas": null,
            "grid_template_columns": null,
            "grid_template_rows": null,
            "height": null,
            "justify_content": null,
            "justify_items": null,
            "left": null,
            "margin": null,
            "max_height": null,
            "max_width": null,
            "min_height": null,
            "min_width": null,
            "object_fit": null,
            "object_position": null,
            "order": null,
            "overflow": null,
            "overflow_x": null,
            "overflow_y": null,
            "padding": null,
            "right": null,
            "top": null,
            "visibility": null,
            "width": null
          }
        },
        "4c37943ecfc64d119799a7899c57d663": {
          "model_module": "@jupyter-widgets/controls",
          "model_name": "SliderStyleModel",
          "model_module_version": "1.5.0",
          "state": {
            "_model_module": "@jupyter-widgets/controls",
            "_model_module_version": "1.5.0",
            "_model_name": "SliderStyleModel",
            "_view_count": null,
            "_view_module": "@jupyter-widgets/base",
            "_view_module_version": "1.2.0",
            "_view_name": "StyleView",
            "description_width": "",
            "handle_color": null
          }
        },
        "8ad5bdfa04c240e5a9542f2eccae9bbe": {
          "model_module": "@jupyter-widgets/base",
          "model_name": "LayoutModel",
          "model_module_version": "1.2.0",
          "state": {
            "_model_module": "@jupyter-widgets/base",
            "_model_module_version": "1.2.0",
            "_model_name": "LayoutModel",
            "_view_count": null,
            "_view_module": "@jupyter-widgets/base",
            "_view_module_version": "1.2.0",
            "_view_name": "LayoutView",
            "align_content": null,
            "align_items": null,
            "align_self": null,
            "border": null,
            "bottom": null,
            "display": null,
            "flex": null,
            "flex_flow": null,
            "grid_area": null,
            "grid_auto_columns": null,
            "grid_auto_flow": null,
            "grid_auto_rows": null,
            "grid_column": null,
            "grid_gap": null,
            "grid_row": null,
            "grid_template_areas": null,
            "grid_template_columns": null,
            "grid_template_rows": null,
            "height": null,
            "justify_content": null,
            "justify_items": null,
            "left": null,
            "margin": null,
            "max_height": null,
            "max_width": null,
            "min_height": null,
            "min_width": null,
            "object_fit": null,
            "object_position": null,
            "order": null,
            "overflow": null,
            "overflow_x": null,
            "overflow_y": null,
            "padding": null,
            "right": null,
            "top": null,
            "visibility": null,
            "width": null
          }
        },
        "51f78ca6b1d44026a58fe81bb6d4baa0": {
          "model_module": "@jupyter-widgets/controls",
          "model_name": "SliderStyleModel",
          "model_module_version": "1.5.0",
          "state": {
            "_model_module": "@jupyter-widgets/controls",
            "_model_module_version": "1.5.0",
            "_model_name": "SliderStyleModel",
            "_view_count": null,
            "_view_module": "@jupyter-widgets/base",
            "_view_module_version": "1.2.0",
            "_view_name": "StyleView",
            "description_width": "",
            "handle_color": null
          }
        },
        "300688de73fe448c98cca037dabb2771": {
          "model_module": "@jupyter-widgets/base",
          "model_name": "LayoutModel",
          "model_module_version": "1.2.0",
          "state": {
            "_model_module": "@jupyter-widgets/base",
            "_model_module_version": "1.2.0",
            "_model_name": "LayoutModel",
            "_view_count": null,
            "_view_module": "@jupyter-widgets/base",
            "_view_module_version": "1.2.0",
            "_view_name": "LayoutView",
            "align_content": null,
            "align_items": null,
            "align_self": null,
            "border": null,
            "bottom": null,
            "display": null,
            "flex": null,
            "flex_flow": null,
            "grid_area": null,
            "grid_auto_columns": null,
            "grid_auto_flow": null,
            "grid_auto_rows": null,
            "grid_column": null,
            "grid_gap": null,
            "grid_row": null,
            "grid_template_areas": null,
            "grid_template_columns": null,
            "grid_template_rows": null,
            "height": null,
            "justify_content": null,
            "justify_items": null,
            "left": null,
            "margin": null,
            "max_height": null,
            "max_width": null,
            "min_height": null,
            "min_width": null,
            "object_fit": null,
            "object_position": null,
            "order": null,
            "overflow": null,
            "overflow_x": null,
            "overflow_y": null,
            "padding": null,
            "right": null,
            "top": null,
            "visibility": null,
            "width": null
          }
        }
      }
    }
  },
  "cells": [
    {
      "cell_type": "markdown",
      "metadata": {
        "id": "view-in-github",
        "colab_type": "text"
      },
      "source": [
        "<a href=\"https://colab.research.google.com/github/imnotjohn/cityscience/blob/main/MAS_552_interactive_models_Apr_22.ipynb\" target=\"_parent\"><img src=\"https://colab.research.google.com/assets/colab-badge.svg\" alt=\"Open In Colab\"/></a>"
      ]
    },
    {
      "cell_type": "markdown",
      "source": [
        "Intebded Learning Outcomes\n",
        "- learn to use interactive mapping tool unfolded.ai\n",
        "- learn to create simple interactive widgets in Jupyter notebooks\n",
        "- revisit density and proximity calculations from previous workshop\n",
        "- create an interactive model for exploring urban interventions in Kendall"
      ],
      "metadata": {
        "id": "ToXmSDlkg7Oo"
      }
    },
    {
      "cell_type": "code",
      "source": [
        "!pip install pandana\n",
        "import pandana # for proximity analysis\n",
        "!pip install osmnet\n",
        "import osmnet # for downloading the OSM network data\n",
        "\n",
        "import geopandas as gpd # for spatial operations\n",
        "import numpy as np # for math\n",
        "import urllib.request as ur # for downloading data\n",
        "from gzip import GzipFile\n",
        "import pandas as pd # for working with dataframes"
      ],
      "metadata": {
        "id": "s2LOGPw2dsNh",
        "colab": {
          "base_uri": "https://localhost:8080/"
        },
        "outputId": "de3fd45a-e25e-4c1b-fe47-3df5a8ad830f"
      },
      "execution_count": 1,
      "outputs": [
        {
          "output_type": "stream",
          "name": "stdout",
          "text": [
            "Requirement already satisfied: pandana in /usr/local/lib/python3.10/dist-packages (0.7)\n",
            "Requirement already satisfied: numpy>=1.8 in /usr/local/lib/python3.10/dist-packages (from pandana) (1.23.5)\n",
            "Requirement already satisfied: pandas>=0.17 in /usr/local/lib/python3.10/dist-packages (from pandana) (1.5.3)\n",
            "Requirement already satisfied: requests>=2.0 in /usr/local/lib/python3.10/dist-packages (from pandana) (2.31.0)\n",
            "Requirement already satisfied: scikit-learn>=0.18 in /usr/local/lib/python3.10/dist-packages (from pandana) (1.2.2)\n",
            "Requirement already satisfied: tables>=3.1 in /usr/local/lib/python3.10/dist-packages (from pandana) (3.8.0)\n",
            "Requirement already satisfied: python-dateutil>=2.8.1 in /usr/local/lib/python3.10/dist-packages (from pandas>=0.17->pandana) (2.8.2)\n",
            "Requirement already satisfied: pytz>=2020.1 in /usr/local/lib/python3.10/dist-packages (from pandas>=0.17->pandana) (2023.3.post1)\n",
            "Requirement already satisfied: charset-normalizer<4,>=2 in /usr/local/lib/python3.10/dist-packages (from requests>=2.0->pandana) (3.2.0)\n",
            "Requirement already satisfied: idna<4,>=2.5 in /usr/local/lib/python3.10/dist-packages (from requests>=2.0->pandana) (3.4)\n",
            "Requirement already satisfied: urllib3<3,>=1.21.1 in /usr/local/lib/python3.10/dist-packages (from requests>=2.0->pandana) (2.0.4)\n",
            "Requirement already satisfied: certifi>=2017.4.17 in /usr/local/lib/python3.10/dist-packages (from requests>=2.0->pandana) (2023.7.22)\n",
            "Requirement already satisfied: scipy>=1.3.2 in /usr/local/lib/python3.10/dist-packages (from scikit-learn>=0.18->pandana) (1.11.2)\n",
            "Requirement already satisfied: joblib>=1.1.1 in /usr/local/lib/python3.10/dist-packages (from scikit-learn>=0.18->pandana) (1.3.2)\n",
            "Requirement already satisfied: threadpoolctl>=2.0.0 in /usr/local/lib/python3.10/dist-packages (from scikit-learn>=0.18->pandana) (3.2.0)\n",
            "Requirement already satisfied: cython>=0.29.21 in /usr/local/lib/python3.10/dist-packages (from tables>=3.1->pandana) (3.0.2)\n",
            "Requirement already satisfied: numexpr>=2.6.2 in /usr/local/lib/python3.10/dist-packages (from tables>=3.1->pandana) (2.8.5)\n",
            "Requirement already satisfied: blosc2~=2.0.0 in /usr/local/lib/python3.10/dist-packages (from tables>=3.1->pandana) (2.0.0)\n",
            "Requirement already satisfied: packaging in /usr/local/lib/python3.10/dist-packages (from tables>=3.1->pandana) (23.1)\n",
            "Requirement already satisfied: py-cpuinfo in /usr/local/lib/python3.10/dist-packages (from tables>=3.1->pandana) (9.0.0)\n",
            "Requirement already satisfied: msgpack in /usr/local/lib/python3.10/dist-packages (from blosc2~=2.0.0->tables>=3.1->pandana) (1.0.5)\n",
            "Requirement already satisfied: six>=1.5 in /usr/local/lib/python3.10/dist-packages (from python-dateutil>=2.8.1->pandas>=0.17->pandana) (1.16.0)\n",
            "Requirement already satisfied: osmnet in /usr/local/lib/python3.10/dist-packages (0.1.7)\n",
            "Requirement already satisfied: geopandas>=0.11 in /usr/local/lib/python3.10/dist-packages (from osmnet) (0.13.2)\n",
            "Requirement already satisfied: numpy>=1.10 in /usr/local/lib/python3.10/dist-packages (from osmnet) (1.23.5)\n",
            "Requirement already satisfied: pandas>=0.23 in /usr/local/lib/python3.10/dist-packages (from osmnet) (1.5.3)\n",
            "Requirement already satisfied: requests>=2.9.1 in /usr/local/lib/python3.10/dist-packages (from osmnet) (2.31.0)\n",
            "Requirement already satisfied: shapely>=1.8 in /usr/local/lib/python3.10/dist-packages (from osmnet) (2.0.1)\n",
            "Requirement already satisfied: fiona>=1.8.19 in /usr/local/lib/python3.10/dist-packages (from geopandas>=0.11->osmnet) (1.9.4.post1)\n",
            "Requirement already satisfied: packaging in /usr/local/lib/python3.10/dist-packages (from geopandas>=0.11->osmnet) (23.1)\n",
            "Requirement already satisfied: pyproj>=3.0.1 in /usr/local/lib/python3.10/dist-packages (from geopandas>=0.11->osmnet) (3.6.0)\n",
            "Requirement already satisfied: python-dateutil>=2.8.1 in /usr/local/lib/python3.10/dist-packages (from pandas>=0.23->osmnet) (2.8.2)\n",
            "Requirement already satisfied: pytz>=2020.1 in /usr/local/lib/python3.10/dist-packages (from pandas>=0.23->osmnet) (2023.3.post1)\n",
            "Requirement already satisfied: charset-normalizer<4,>=2 in /usr/local/lib/python3.10/dist-packages (from requests>=2.9.1->osmnet) (3.2.0)\n",
            "Requirement already satisfied: idna<4,>=2.5 in /usr/local/lib/python3.10/dist-packages (from requests>=2.9.1->osmnet) (3.4)\n",
            "Requirement already satisfied: urllib3<3,>=1.21.1 in /usr/local/lib/python3.10/dist-packages (from requests>=2.9.1->osmnet) (2.0.4)\n",
            "Requirement already satisfied: certifi>=2017.4.17 in /usr/local/lib/python3.10/dist-packages (from requests>=2.9.1->osmnet) (2023.7.22)\n",
            "Requirement already satisfied: attrs>=19.2.0 in /usr/local/lib/python3.10/dist-packages (from fiona>=1.8.19->geopandas>=0.11->osmnet) (23.1.0)\n",
            "Requirement already satisfied: click~=8.0 in /usr/local/lib/python3.10/dist-packages (from fiona>=1.8.19->geopandas>=0.11->osmnet) (8.1.7)\n",
            "Requirement already satisfied: click-plugins>=1.0 in /usr/local/lib/python3.10/dist-packages (from fiona>=1.8.19->geopandas>=0.11->osmnet) (1.1.1)\n",
            "Requirement already satisfied: cligj>=0.5 in /usr/local/lib/python3.10/dist-packages (from fiona>=1.8.19->geopandas>=0.11->osmnet) (0.7.2)\n",
            "Requirement already satisfied: six in /usr/local/lib/python3.10/dist-packages (from fiona>=1.8.19->geopandas>=0.11->osmnet) (1.16.0)\n"
          ]
        }
      ]
    },
    {
      "cell_type": "markdown",
      "source": [
        "# Using unfolded.ai for mapping"
      ],
      "metadata": {
        "id": "4QhkF3bFehgF"
      }
    },
    {
      "cell_type": "code",
      "source": [
        "# !pip install 'unfolded.map_sdk>=0.6.3' sidecar\n",
        "!pip install unfolded.map-sdk\n",
        "# from unfolded.map_sdk import UnfoldedMap\n",
        "from unfolded.map_sdk import create_map\n",
        "from sidecar import Sidecar\n",
        "from uuid import uuid4"
      ],
      "metadata": {
        "id": "OHNEs7rFeoWm",
        "colab": {
          "base_uri": "https://localhost:8080/"
        },
        "outputId": "1b06955c-dc3d-4ea6-e984-ef58a14104b0"
      },
      "execution_count": 4,
      "outputs": [
        {
          "output_type": "stream",
          "name": "stdout",
          "text": [
            "Requirement already satisfied: unfolded.map-sdk in /usr/local/lib/python3.10/dist-packages (1.10.1)\n",
            "Requirement already satisfied: geojson-pydantic<0.5.0,>=0.4.2 in /usr/local/lib/python3.10/dist-packages (from unfolded.map-sdk) (0.4.3)\n",
            "Requirement already satisfied: ipykernel<6.18 in /usr/local/lib/python3.10/dist-packages (from unfolded.map-sdk) (5.5.6)\n",
            "Requirement already satisfied: ipywidgets<8,>=7.0.0 in /usr/local/lib/python3.10/dist-packages (from unfolded.map-sdk) (7.7.1)\n",
            "Requirement already satisfied: jinja2<4,>=3 in /usr/local/lib/python3.10/dist-packages (from unfolded.map-sdk) (3.1.2)\n",
            "Requirement already satisfied: jupyter-ui-poll<0.3.0,>=0.2.1 in /usr/local/lib/python3.10/dist-packages (from unfolded.map-sdk) (0.2.2)\n",
            "Requirement already satisfied: pydantic<2.0,>=1.9 in /usr/local/lib/python3.10/dist-packages (from unfolded.map-sdk) (1.10.12)\n",
            "Requirement already satisfied: traitlets in /usr/local/lib/python3.10/dist-packages (from unfolded.map-sdk) (5.7.1)\n",
            "Requirement already satisfied: jupyterlab-widgets<=1.1.2 in /usr/local/lib/python3.10/dist-packages (from unfolded.map-sdk) (1.1.2)\n",
            "Requirement already satisfied: ipython-genutils in /usr/local/lib/python3.10/dist-packages (from ipykernel<6.18->unfolded.map-sdk) (0.2.0)\n",
            "Requirement already satisfied: ipython>=5.0.0 in /usr/local/lib/python3.10/dist-packages (from ipykernel<6.18->unfolded.map-sdk) (7.34.0)\n",
            "Requirement already satisfied: jupyter-client in /usr/local/lib/python3.10/dist-packages (from ipykernel<6.18->unfolded.map-sdk) (6.1.12)\n",
            "Requirement already satisfied: tornado>=4.2 in /usr/local/lib/python3.10/dist-packages (from ipykernel<6.18->unfolded.map-sdk) (6.3.2)\n",
            "Requirement already satisfied: widgetsnbextension~=3.6.0 in /usr/local/lib/python3.10/dist-packages (from ipywidgets<8,>=7.0.0->unfolded.map-sdk) (3.6.5)\n",
            "Requirement already satisfied: MarkupSafe>=2.0 in /usr/local/lib/python3.10/dist-packages (from jinja2<4,>=3->unfolded.map-sdk) (2.1.3)\n",
            "Requirement already satisfied: typing-extensions>=4.2.0 in /usr/local/lib/python3.10/dist-packages (from pydantic<2.0,>=1.9->unfolded.map-sdk) (4.5.0)\n",
            "Requirement already satisfied: setuptools>=18.5 in /usr/local/lib/python3.10/dist-packages (from ipython>=5.0.0->ipykernel<6.18->unfolded.map-sdk) (67.7.2)\n",
            "Requirement already satisfied: jedi>=0.16 in /usr/local/lib/python3.10/dist-packages (from ipython>=5.0.0->ipykernel<6.18->unfolded.map-sdk) (0.19.0)\n",
            "Requirement already satisfied: decorator in /usr/local/lib/python3.10/dist-packages (from ipython>=5.0.0->ipykernel<6.18->unfolded.map-sdk) (4.4.2)\n",
            "Requirement already satisfied: pickleshare in /usr/local/lib/python3.10/dist-packages (from ipython>=5.0.0->ipykernel<6.18->unfolded.map-sdk) (0.7.5)\n",
            "Requirement already satisfied: prompt-toolkit!=3.0.0,!=3.0.1,<3.1.0,>=2.0.0 in /usr/local/lib/python3.10/dist-packages (from ipython>=5.0.0->ipykernel<6.18->unfolded.map-sdk) (3.0.39)\n",
            "Requirement already satisfied: pygments in /usr/local/lib/python3.10/dist-packages (from ipython>=5.0.0->ipykernel<6.18->unfolded.map-sdk) (2.16.1)\n",
            "Requirement already satisfied: backcall in /usr/local/lib/python3.10/dist-packages (from ipython>=5.0.0->ipykernel<6.18->unfolded.map-sdk) (0.2.0)\n",
            "Requirement already satisfied: matplotlib-inline in /usr/local/lib/python3.10/dist-packages (from ipython>=5.0.0->ipykernel<6.18->unfolded.map-sdk) (0.1.6)\n",
            "Requirement already satisfied: pexpect>4.3 in /usr/local/lib/python3.10/dist-packages (from ipython>=5.0.0->ipykernel<6.18->unfolded.map-sdk) (4.8.0)\n",
            "Requirement already satisfied: notebook>=4.4.1 in /usr/local/lib/python3.10/dist-packages (from widgetsnbextension~=3.6.0->ipywidgets<8,>=7.0.0->unfolded.map-sdk) (6.5.5)\n",
            "Requirement already satisfied: jupyter-core>=4.6.0 in /usr/local/lib/python3.10/dist-packages (from jupyter-client->ipykernel<6.18->unfolded.map-sdk) (5.3.1)\n",
            "Requirement already satisfied: pyzmq>=13 in /usr/local/lib/python3.10/dist-packages (from jupyter-client->ipykernel<6.18->unfolded.map-sdk) (23.2.1)\n",
            "Requirement already satisfied: python-dateutil>=2.1 in /usr/local/lib/python3.10/dist-packages (from jupyter-client->ipykernel<6.18->unfolded.map-sdk) (2.8.2)\n",
            "Requirement already satisfied: parso<0.9.0,>=0.8.3 in /usr/local/lib/python3.10/dist-packages (from jedi>=0.16->ipython>=5.0.0->ipykernel<6.18->unfolded.map-sdk) (0.8.3)\n",
            "Requirement already satisfied: platformdirs>=2.5 in /usr/local/lib/python3.10/dist-packages (from jupyter-core>=4.6.0->jupyter-client->ipykernel<6.18->unfolded.map-sdk) (3.10.0)\n",
            "Requirement already satisfied: argon2-cffi in /usr/local/lib/python3.10/dist-packages (from notebook>=4.4.1->widgetsnbextension~=3.6.0->ipywidgets<8,>=7.0.0->unfolded.map-sdk) (23.1.0)\n",
            "Requirement already satisfied: nbformat in /usr/local/lib/python3.10/dist-packages (from notebook>=4.4.1->widgetsnbextension~=3.6.0->ipywidgets<8,>=7.0.0->unfolded.map-sdk) (5.9.2)\n",
            "Requirement already satisfied: nbconvert>=5 in /usr/local/lib/python3.10/dist-packages (from notebook>=4.4.1->widgetsnbextension~=3.6.0->ipywidgets<8,>=7.0.0->unfolded.map-sdk) (6.5.4)\n",
            "Requirement already satisfied: nest-asyncio>=1.5 in /usr/local/lib/python3.10/dist-packages (from notebook>=4.4.1->widgetsnbextension~=3.6.0->ipywidgets<8,>=7.0.0->unfolded.map-sdk) (1.5.7)\n",
            "Requirement already satisfied: Send2Trash>=1.8.0 in /usr/local/lib/python3.10/dist-packages (from notebook>=4.4.1->widgetsnbextension~=3.6.0->ipywidgets<8,>=7.0.0->unfolded.map-sdk) (1.8.2)\n",
            "Requirement already satisfied: terminado>=0.8.3 in /usr/local/lib/python3.10/dist-packages (from notebook>=4.4.1->widgetsnbextension~=3.6.0->ipywidgets<8,>=7.0.0->unfolded.map-sdk) (0.17.1)\n",
            "Requirement already satisfied: prometheus-client in /usr/local/lib/python3.10/dist-packages (from notebook>=4.4.1->widgetsnbextension~=3.6.0->ipywidgets<8,>=7.0.0->unfolded.map-sdk) (0.17.1)\n",
            "Requirement already satisfied: nbclassic>=0.4.7 in /usr/local/lib/python3.10/dist-packages (from notebook>=4.4.1->widgetsnbextension~=3.6.0->ipywidgets<8,>=7.0.0->unfolded.map-sdk) (1.0.0)\n",
            "Requirement already satisfied: ptyprocess>=0.5 in /usr/local/lib/python3.10/dist-packages (from pexpect>4.3->ipython>=5.0.0->ipykernel<6.18->unfolded.map-sdk) (0.7.0)\n",
            "Requirement already satisfied: wcwidth in /usr/local/lib/python3.10/dist-packages (from prompt-toolkit!=3.0.0,!=3.0.1,<3.1.0,>=2.0.0->ipython>=5.0.0->ipykernel<6.18->unfolded.map-sdk) (0.2.6)\n",
            "Requirement already satisfied: six>=1.5 in /usr/local/lib/python3.10/dist-packages (from python-dateutil>=2.1->jupyter-client->ipykernel<6.18->unfolded.map-sdk) (1.16.0)\n",
            "Requirement already satisfied: jupyter-server>=1.8 in /usr/local/lib/python3.10/dist-packages (from nbclassic>=0.4.7->notebook>=4.4.1->widgetsnbextension~=3.6.0->ipywidgets<8,>=7.0.0->unfolded.map-sdk) (1.24.0)\n",
            "Requirement already satisfied: notebook-shim>=0.2.3 in /usr/local/lib/python3.10/dist-packages (from nbclassic>=0.4.7->notebook>=4.4.1->widgetsnbextension~=3.6.0->ipywidgets<8,>=7.0.0->unfolded.map-sdk) (0.2.3)\n",
            "Requirement already satisfied: lxml in /usr/local/lib/python3.10/dist-packages (from nbconvert>=5->notebook>=4.4.1->widgetsnbextension~=3.6.0->ipywidgets<8,>=7.0.0->unfolded.map-sdk) (4.9.3)\n",
            "Requirement already satisfied: beautifulsoup4 in /usr/local/lib/python3.10/dist-packages (from nbconvert>=5->notebook>=4.4.1->widgetsnbextension~=3.6.0->ipywidgets<8,>=7.0.0->unfolded.map-sdk) (4.11.2)\n",
            "Requirement already satisfied: bleach in /usr/local/lib/python3.10/dist-packages (from nbconvert>=5->notebook>=4.4.1->widgetsnbextension~=3.6.0->ipywidgets<8,>=7.0.0->unfolded.map-sdk) (6.0.0)\n",
            "Requirement already satisfied: defusedxml in /usr/local/lib/python3.10/dist-packages (from nbconvert>=5->notebook>=4.4.1->widgetsnbextension~=3.6.0->ipywidgets<8,>=7.0.0->unfolded.map-sdk) (0.7.1)\n",
            "Requirement already satisfied: entrypoints>=0.2.2 in /usr/local/lib/python3.10/dist-packages (from nbconvert>=5->notebook>=4.4.1->widgetsnbextension~=3.6.0->ipywidgets<8,>=7.0.0->unfolded.map-sdk) (0.4)\n",
            "Requirement already satisfied: jupyterlab-pygments in /usr/local/lib/python3.10/dist-packages (from nbconvert>=5->notebook>=4.4.1->widgetsnbextension~=3.6.0->ipywidgets<8,>=7.0.0->unfolded.map-sdk) (0.2.2)\n",
            "Requirement already satisfied: mistune<2,>=0.8.1 in /usr/local/lib/python3.10/dist-packages (from nbconvert>=5->notebook>=4.4.1->widgetsnbextension~=3.6.0->ipywidgets<8,>=7.0.0->unfolded.map-sdk) (0.8.4)\n",
            "Requirement already satisfied: nbclient>=0.5.0 in /usr/local/lib/python3.10/dist-packages (from nbconvert>=5->notebook>=4.4.1->widgetsnbextension~=3.6.0->ipywidgets<8,>=7.0.0->unfolded.map-sdk) (0.8.0)\n",
            "Requirement already satisfied: packaging in /usr/local/lib/python3.10/dist-packages (from nbconvert>=5->notebook>=4.4.1->widgetsnbextension~=3.6.0->ipywidgets<8,>=7.0.0->unfolded.map-sdk) (23.1)\n",
            "Requirement already satisfied: pandocfilters>=1.4.1 in /usr/local/lib/python3.10/dist-packages (from nbconvert>=5->notebook>=4.4.1->widgetsnbextension~=3.6.0->ipywidgets<8,>=7.0.0->unfolded.map-sdk) (1.5.0)\n",
            "Requirement already satisfied: tinycss2 in /usr/local/lib/python3.10/dist-packages (from nbconvert>=5->notebook>=4.4.1->widgetsnbextension~=3.6.0->ipywidgets<8,>=7.0.0->unfolded.map-sdk) (1.2.1)\n",
            "Requirement already satisfied: fastjsonschema in /usr/local/lib/python3.10/dist-packages (from nbformat->notebook>=4.4.1->widgetsnbextension~=3.6.0->ipywidgets<8,>=7.0.0->unfolded.map-sdk) (2.18.0)\n",
            "Requirement already satisfied: jsonschema>=2.6 in /usr/local/lib/python3.10/dist-packages (from nbformat->notebook>=4.4.1->widgetsnbextension~=3.6.0->ipywidgets<8,>=7.0.0->unfolded.map-sdk) (4.19.0)\n",
            "Requirement already satisfied: argon2-cffi-bindings in /usr/local/lib/python3.10/dist-packages (from argon2-cffi->notebook>=4.4.1->widgetsnbextension~=3.6.0->ipywidgets<8,>=7.0.0->unfolded.map-sdk) (21.2.0)\n",
            "Requirement already satisfied: attrs>=22.2.0 in /usr/local/lib/python3.10/dist-packages (from jsonschema>=2.6->nbformat->notebook>=4.4.1->widgetsnbextension~=3.6.0->ipywidgets<8,>=7.0.0->unfolded.map-sdk) (23.1.0)\n",
            "Requirement already satisfied: jsonschema-specifications>=2023.03.6 in /usr/local/lib/python3.10/dist-packages (from jsonschema>=2.6->nbformat->notebook>=4.4.1->widgetsnbextension~=3.6.0->ipywidgets<8,>=7.0.0->unfolded.map-sdk) (2023.7.1)\n",
            "Requirement already satisfied: referencing>=0.28.4 in /usr/local/lib/python3.10/dist-packages (from jsonschema>=2.6->nbformat->notebook>=4.4.1->widgetsnbextension~=3.6.0->ipywidgets<8,>=7.0.0->unfolded.map-sdk) (0.30.2)\n",
            "Requirement already satisfied: rpds-py>=0.7.1 in /usr/local/lib/python3.10/dist-packages (from jsonschema>=2.6->nbformat->notebook>=4.4.1->widgetsnbextension~=3.6.0->ipywidgets<8,>=7.0.0->unfolded.map-sdk) (0.10.2)\n",
            "Requirement already satisfied: anyio<4,>=3.1.0 in /usr/local/lib/python3.10/dist-packages (from jupyter-server>=1.8->nbclassic>=0.4.7->notebook>=4.4.1->widgetsnbextension~=3.6.0->ipywidgets<8,>=7.0.0->unfolded.map-sdk) (3.7.1)\n",
            "Requirement already satisfied: websocket-client in /usr/local/lib/python3.10/dist-packages (from jupyter-server>=1.8->nbclassic>=0.4.7->notebook>=4.4.1->widgetsnbextension~=3.6.0->ipywidgets<8,>=7.0.0->unfolded.map-sdk) (1.6.2)\n",
            "Requirement already satisfied: cffi>=1.0.1 in /usr/local/lib/python3.10/dist-packages (from argon2-cffi-bindings->argon2-cffi->notebook>=4.4.1->widgetsnbextension~=3.6.0->ipywidgets<8,>=7.0.0->unfolded.map-sdk) (1.15.1)\n",
            "Requirement already satisfied: soupsieve>1.2 in /usr/local/lib/python3.10/dist-packages (from beautifulsoup4->nbconvert>=5->notebook>=4.4.1->widgetsnbextension~=3.6.0->ipywidgets<8,>=7.0.0->unfolded.map-sdk) (2.5)\n",
            "Requirement already satisfied: webencodings in /usr/local/lib/python3.10/dist-packages (from bleach->nbconvert>=5->notebook>=4.4.1->widgetsnbextension~=3.6.0->ipywidgets<8,>=7.0.0->unfolded.map-sdk) (0.5.1)\n",
            "Requirement already satisfied: idna>=2.8 in /usr/local/lib/python3.10/dist-packages (from anyio<4,>=3.1.0->jupyter-server>=1.8->nbclassic>=0.4.7->notebook>=4.4.1->widgetsnbextension~=3.6.0->ipywidgets<8,>=7.0.0->unfolded.map-sdk) (3.4)\n",
            "Requirement already satisfied: sniffio>=1.1 in /usr/local/lib/python3.10/dist-packages (from anyio<4,>=3.1.0->jupyter-server>=1.8->nbclassic>=0.4.7->notebook>=4.4.1->widgetsnbextension~=3.6.0->ipywidgets<8,>=7.0.0->unfolded.map-sdk) (1.3.0)\n",
            "Requirement already satisfied: exceptiongroup in /usr/local/lib/python3.10/dist-packages (from anyio<4,>=3.1.0->jupyter-server>=1.8->nbclassic>=0.4.7->notebook>=4.4.1->widgetsnbextension~=3.6.0->ipywidgets<8,>=7.0.0->unfolded.map-sdk) (1.1.3)\n",
            "Requirement already satisfied: pycparser in /usr/local/lib/python3.10/dist-packages (from cffi>=1.0.1->argon2-cffi-bindings->argon2-cffi->notebook>=4.4.1->widgetsnbextension~=3.6.0->ipywidgets<8,>=7.0.0->unfolded.map-sdk) (2.21)\n"
          ]
        }
      ]
    },
    {
      "cell_type": "markdown",
      "source": [
        "If Jupyter asks you to restart the runtime, do so and rerun the cells above"
      ],
      "metadata": {
        "id": "_eKVOrtu9ViV"
      }
    },
    {
      "cell_type": "code",
      "source": [
        "# unfolded_map = UnfoldedMap()\n",
        "unfolded_map = create_map()\n",
        "# unfolded_map\n",
        "\n",
        "sc = Sidecar(title='Unfolded Map', anchor='split-right')\n",
        "with sc:\n",
        "    display(unfolded_map)"
      ],
      "metadata": {
        "id": "SchYgM4We-KW",
        "colab": {
          "base_uri": "https://localhost:8080/",
          "height": 516,
          "referenced_widgets": [
            "c90c492a5fbc43c8be290cbcd18ce00e",
            "bd140a60c0884533be9ab559584c937f"
          ]
        },
        "outputId": "09340236-3ea4-40a4-b217-86c492c60b99"
      },
      "execution_count": 5,
      "outputs": [
        {
          "output_type": "display_data",
          "data": {
            "text/plain": [
              "SyncWidgetMap(style={'height': 500, 'width': '100%'})"
            ],
            "application/vnd.jupyter.widget-view+json": {
              "version_major": 2,
              "version_minor": 0,
              "model_id": "c90c492a5fbc43c8be290cbcd18ce00e"
            }
          },
          "metadata": {
            "application/vnd.jupyter.widget-view+json": {
              "colab": {
                "custom_widget_manager": {
                  "url": "https://ssl.gstatic.com/colaboratory-static/widgets/colab-cdn-widget-manager/b3e629b1971e1542/manager.min.js"
                }
              }
            }
          }
        }
      ]
    },
    {
      "cell_type": "code",
      "source": [
        "# unfolded_map.set_view_state({\n",
        "unfolded_map.set_view({\n",
        "        'longitude': -71.082382,\n",
        "        'latitude': 42.365680,\n",
        "        'zoom': 13})\n",
        "\n"
      ],
      "metadata": {
        "id": "MYsWh71Zgk6C",
        "colab": {
          "base_uri": "https://localhost:8080/",
          "height": 32
        },
        "outputId": "ba4fa2a0-6e18-4568-d525-53a48cc1bec4"
      },
      "execution_count": 7,
      "outputs": [
        {
          "output_type": "execute_result",
          "data": {
            "text/plain": [
              "View(longitude=-71.082382, latitude=42.36568, zoom=13, pitch=0, bearing=0)"
            ]
          },
          "metadata": {},
          "execution_count": 7
        }
      ]
    },
    {
      "cell_type": "markdown",
      "source": [
        "# Create a simple interactive model in Colab using widgets"
      ],
      "metadata": {
        "id": "ORJmmV8GQfP4"
      }
    },
    {
      "cell_type": "markdown",
      "source": [
        "### Import the required libraries"
      ],
      "metadata": {
        "id": "pMkUdbdCTUKi"
      }
    },
    {
      "cell_type": "code",
      "execution_count": 8,
      "metadata": {
        "id": "1VFPnjnzPr6I"
      },
      "outputs": [],
      "source": [
        "from ipywidgets import interact\n",
        "#from ipywidgets import interactive, fixed, interact_manual\n",
        "import ipywidgets as widgets"
      ]
    },
    {
      "cell_type": "code",
      "source": [
        "import matplotlib.pyplot as plt"
      ],
      "metadata": {
        "id": "G0vmvJp3dYqT"
      },
      "execution_count": 9,
      "outputs": []
    },
    {
      "cell_type": "code",
      "source": [
        "def f(X, a, b):\n",
        "    plt.scatter(range(X), [x*a+b for x in range(X)])"
      ],
      "metadata": {
        "id": "rVZQ6NGJc6nJ"
      },
      "execution_count": 10,
      "outputs": []
    },
    {
      "cell_type": "code",
      "source": [
        "interact(f, X=widgets.IntSlider(min=0, max=100, step=1, value=10),\n",
        "         a=widgets.IntSlider(min=0, max=100, step=1, value=1),\n",
        "         b=widgets.IntSlider(min=0, max=50, step=1, value=0));"
      ],
      "metadata": {
        "id": "Tj-Zxti7dDKv",
        "colab": {
          "base_uri": "https://localhost:8080/",
          "height": 1000,
          "referenced_widgets": [
            "926bf9da8e154314b37855ce263b8ef9",
            "392c8acb887a45939daad392e19b0741",
            "69ab154c82c241f7a197ca18e6abb6fc",
            "fd30e021186241908f09f980db8857db",
            "c4c0ac5b6d9545c6afbfd9915501fb49",
            "ce4a3405159c4311b442e44d4f9d9d61",
            "8281edff16e9409c88761ffbb840f465",
            "37677f9ef7654956b127d09e66c1fcf3",
            "a93c76eafb8345939de7e28771ff5fb4",
            "4c37943ecfc64d119799a7899c57d663",
            "8ad5bdfa04c240e5a9542f2eccae9bbe",
            "51f78ca6b1d44026a58fe81bb6d4baa0",
            "300688de73fe448c98cca037dabb2771"
          ]
        },
        "outputId": "95f0681a-f5a0-4cda-db5c-10b199ca46e3"
      },
      "execution_count": 11,
      "outputs": [
        {
          "output_type": "display_data",
          "data": {
            "text/plain": [
              "interactive(children=(IntSlider(value=10, description='X'), IntSlider(value=1, description='a'), IntSlider(val…"
            ],
            "application/vnd.jupyter.widget-view+json": {
              "version_major": 2,
              "version_minor": 0,
              "model_id": "926bf9da8e154314b37855ce263b8ef9"
            }
          },
          "metadata": {
            "application/vnd.jupyter.widget-view+json": {
              "colab": {
                "custom_widget_manager": {
                  "url": "https://ssl.gstatic.com/colaboratory-static/widgets/colab-cdn-widget-manager/b3e629b1971e1542/manager.min.js"
                }
              }
            }
          }
        },
        {
          "output_type": "display_data",
          "data": {
            "text/plain": [
              "<Figure size 640x480 with 1 Axes>"
            ],
            "image/png": "[encoded data removed]"
          },
          "metadata": {}
        },
        {
          "output_type": "display_data",
          "data": {
            "text/plain": [
              "<Figure size 640x480 with 1 Axes>"
            ],
            "image/png": "[encoded data removed]"
          },
          "metadata": {}
        },
        {
          "output_type": "display_data",
          "data": {
            "text/plain": [
              "<Figure size 640x480 with 1 Axes>"
            ],
            "image/png": "[encoded data removed]"
          },
          "metadata": {}
        },
        {
          "output_type": "display_data",
          "data": {
            "text/plain": [
              "<Figure size 640x480 with 1 Axes>"
            ],
            "image/png": "[encoded data removed]"
          },
          "metadata": {}
        },
        {
          "output_type": "display_data",
          "data": {
            "text/plain": [
              "<Figure size 640x480 with 1 Axes>"
            ],
            "image/png": "[encoded data removed]"
          },
          "metadata": {}
        },
        {
          "output_type": "display_data",
          "data": {
            "text/plain": [
              "<Figure size 640x480 with 1 Axes>"
            ],
            "image/png": "[encoded data removed]"
          },
          "metadata": {}
        },
        {
          "output_type": "display_data",
          "data": {
            "text/plain": [
              "<Figure size 640x480 with 1 Axes>"
            ],
            "image/png": "[encoded data removed]"
          },
          "metadata": {}
        },
        {
          "output_type": "display_data",
          "data": {
            "text/plain": [
              "<Figure size 640x480 with 1 Axes>"
            ],
            "image/png": "[encoded data removed]"
          },
          "metadata": {}
        },
        {
          "output_type": "display_data",
          "data": {
            "text/plain": [
              "<Figure size 640x480 with 1 Axes>"
            ],
            "image/png": "[encoded data removed]"
          },
          "metadata": {}
        }
      ]
    },
    {
      "cell_type": "markdown",
      "source": [
        "## Exercise: create a new interacive model which will multiply any two numbers, a and b, and print the answer"
      ],
      "metadata": {
        "id": "LlwjO2yP9qX8"
      }
    },
    {
      "cell_type": "code",
      "source": [],
      "metadata": {
        "id": "K21d1MldNdlr"
      },
      "execution_count": null,
      "outputs": []
    },
    {
      "cell_type": "markdown",
      "source": [
        "# Set up the context for an interactive urban model\n"
      ],
      "metadata": {
        "id": "2PadTyYLToH2"
      }
    },
    {
      "cell_type": "markdown",
      "source": [
        "## Baseline Data\n",
        "Use the same process the previous python workshop to get the block group geometries and residence and workplace data from LODES\n",
        "- download block group geometry data\n",
        "- subset by bounding box of study area\n",
        "- get RAC and WAC data by block-group from LODES\n",
        "- join the RAC and WAC data to the geometry data"
      ],
      "metadata": {
        "id": "WW9dmcTm-pwf"
      }
    },
    {
      "cell_type": "code",
      "source": [
        "def get_geometry(state_fips, geom_type, year, target_crs=\"EPSG:4326\"):\n",
        "    print('Getting geometry ({}) for state: {}'.format(geom_type, state_fips))\n",
        "    geom_type_map={'block_group': ['BG', 'bg'], 'tract': ['TRACT', 'tract'], 'block': ['TABBLOCK', 'tabblock10']}\n",
        "    try:\n",
        "        geom_type_l=geom_type_map[geom_type]\n",
        "    except:\n",
        "        print('Unrecognised geometry :'+geom_type)\n",
        "    geom=gpd.read_file('https://www2.census.gov/geo/tiger/TIGER{}/{}/tl_{}_{}_{}.zip'.format(\n",
        "                year, geom_type_l[0], year, state_fips, geom_type_l[1]))\n",
        "    geoid_col=[col for col in geom.columns if 'GEOID' in col][0]\n",
        "    geom=geom.rename(columns={geoid_col: 'GEOID'})\n",
        "    geom=geom.set_index('GEOID')\n",
        "    geom=geom.to_crs(target_crs)\n",
        "    geom.index=[int(i) for i in geom.index]\n",
        "    return geom\n",
        "\n",
        "def get_rac_data(state_abbr, year):\n",
        "    print('Getting RAC data from https://lehd.ces.census.gov/data/lodes/LODES7/')\n",
        "    req = ur.Request('https://lehd.ces.census.gov/data/lodes/LODES7/{}/rac/{}_rac_S000_JT00_{}.csv.gz'.format(\n",
        "            state_abbr, state_abbr, year))\n",
        "    z_f = ur.urlopen(req)\n",
        "    f = GzipFile(fileobj=z_f, mode=\"r\")\n",
        "    rac = pd.read_csv(f)\n",
        "    return rac\n",
        "\n",
        "def get_wac_data(state_abbr, year):\n",
        "    print('Getting WAC data from https://lehd.ces.census.gov/data/lodes/LODES7/')\n",
        "    req = ur.Request('https://lehd.ces.census.gov/data/lodes/LODES7/{}/wac/{}_wac_S000_JT00_{}.csv.gz'.format(\n",
        "            state_abbr, state_abbr, year))\n",
        "    z_f = ur.urlopen(req)\n",
        "    f = GzipFile(fileobj=z_f, mode=\"r\")\n",
        "    wac = pd.read_csv(f)\n",
        "    return wac\n",
        "\n",
        "def lodes_block_to_bg(block_data):\n",
        "    block_cols=[col for col in ['h_geocode', 'w_geocode'] if col in block_data.columns]\n",
        "    cols_to_agg=[col for col in block_data.columns if not col in [\n",
        "      'w_geocode', 'h_geocode', 'w_geoid', 'h_geoid', 'createdate']]\n",
        "    for col in block_cols:\n",
        "      block_data[col.replace('geocode', 'geoid')]=block_data[col].floordiv(1000)\n",
        "    bg_cols=[col.replace('geocode', 'geoid') for col in block_cols]\n",
        "    bg_data=block_data.groupby(bg_cols, as_index=False)[cols_to_agg].sum()\n",
        "    return bg_data\n",
        "\n",
        "lat_min=42.34\n",
        "lng_min=-71.14\n",
        "lat_max=42.4\n",
        "lng_max=-71.05\n",
        "\n",
        "bg_ma=get_geometry(25, geom_type='block_group', year=2019, target_crs=\"EPSG:4326\")\n",
        "bg_model=bg_ma.cx[lng_min:lng_max, lat_min:lat_max].copy()\n",
        "rac=get_rac_data(state_abbr='ma', year=2019)\n",
        "wac=get_wac_data(state_abbr='ma', year=2019)\n",
        "\n",
        "rac_bg=lodes_block_to_bg(rac)\n",
        "wac_bg=lodes_block_to_bg(wac)\n",
        "\n",
        "rac_bg=rac_bg.rename(columns={'C000': 'res_total'})[['h_geoid', 'res_total']]\n",
        "wac_bg=wac_bg.rename(columns={'C000': 'emp_total'})[['w_geoid', 'emp_total']]\n",
        "\n",
        "bg_model['GEOID']=bg_model.index.copy()\n",
        "joined_data=bg_model.merge(wac_bg, how='left', left_on='GEOID', right_on='w_geoid')\n",
        "joined_data=joined_data.merge(rac_bg, how='left', left_on='GEOID', right_on='h_geoid')\n",
        "joined_data=joined_data.set_index('GEOID')"
      ],
      "metadata": {
        "id": "VnyR6rwEUEd-",
        "colab": {
          "base_uri": "https://localhost:8080/"
        },
        "outputId": "063df73e-e922-43c8-fdc0-e9825070d4e5"
      },
      "execution_count": null,
      "outputs": [
        {
          "output_type": "stream",
          "name": "stdout",
          "text": [
            "Getting geometry (block_group) for state: 25\n",
            "Getting RAC data from https://lehd.ces.census.gov/data/lodes/LODES7/\n",
            "Getting WAC data from https://lehd.ces.census.gov/data/lodes/LODES7/\n"
          ]
        }
      ]
    },
    {
      "cell_type": "markdown",
      "source": [
        "## Set up an interaction Zone"
      ],
      "metadata": {
        "id": "5hIkD4Mdb-Fe"
      }
    },
    {
      "cell_type": "markdown",
      "source": [
        "Create your own interaction area using an existing geojson file or by creating one with geojson.io"
      ],
      "metadata": {
        "id": "pxUomW-Z-Mds"
      }
    },
    {
      "cell_type": "code",
      "source": [
        "import json\n",
        "volpe=gpd.read_file(\"\"\"\n",
        "{\n",
        "  \"type\": \"FeatureCollection\",\n",
        "  \"features\": [\n",
        "    {\n",
        "      \"type\": \"Feature\",\n",
        "      \"properties\": {},\n",
        "      \"geometry\": {\n",
        "        \"type\": \"Polygon\",\n",
        "        \"coordinates\": [\n",
        "          [\n",
        "            [\n",
        "              -71.08432173728943,\n",
        "              42.36277732618222\n",
        "            ],\n",
        "            [\n",
        "              -71.08344197273254,\n",
        "              42.3638633794392\n",
        "            ],\n",
        "            [\n",
        "              -71.08478307723999,\n",
        "              42.364434144427904\n",
        "            ],\n",
        "            [\n",
        "              -71.08461141586304,\n",
        "              42.365329917913314\n",
        "            ],\n",
        "            [\n",
        "              -71.08281970024109,\n",
        "              42.36510795753202\n",
        "            ],\n",
        "            [\n",
        "              -71.08254075050354,\n",
        "              42.365575658849274\n",
        "            ],\n",
        "            [\n",
        "              -71.08609199523926,\n",
        "              42.36605128373659\n",
        "            ],\n",
        "            [\n",
        "              -71.08617782592773,\n",
        "              42.36542504355094\n",
        "            ],\n",
        "            [\n",
        "              -71.08732581138611,\n",
        "              42.36407741691762\n",
        "            ],\n",
        "            [\n",
        "              -71.08432173728943,\n",
        "              42.36277732618222\n",
        "            ]\n",
        "          ]\n",
        "        ]\n",
        "      }\n",
        "    }\n",
        "  ]\n",
        "}\n",
        "\"\"\"\n",
        ")"
      ],
      "metadata": {
        "id": "hRsGSfZgb8-Y"
      },
      "execution_count": null,
      "outputs": []
    },
    {
      "cell_type": "code",
      "source": [
        "map = UnfoldedMap()\n",
        "map"
      ],
      "metadata": {
        "id": "63b5aQ7Zhd51",
        "colab": {
          "base_uri": "https://localhost:8080/",
          "height": 542,
          "referenced_widgets": [
            "f101af9d06ff4c378a1320014599da3f",
            "1d34649c592a422c9f9441822560009b"
          ]
        },
        "outputId": "3ac94d83-387c-4a5f-fa54-b9b260fbfa82"
      },
      "execution_count": null,
      "outputs": [
        {
          "output_type": "display_data",
          "data": {
            "text/plain": [
              "UnfoldedMap()"
            ],
            "application/vnd.jupyter.widget-view+json": {
              "version_major": 2,
              "version_minor": 0,
              "model_id": "f101af9d06ff4c378a1320014599da3f"
            }
          },
          "metadata": {
            "application/vnd.jupyter.widget-view+json": {
              "colab": {
                "custom_widget_manager": {
                  "url": "https://ssl.gstatic.com/colaboratory-static/widgets/colab-cdn-widget-manager/a8874ba6619b6106/manager.min.js"
                }
              }
            }
          }
        }
      ]
    },
    {
      "cell_type": "code",
      "source": [
        "map.set_view_state({\n",
        "        'longitude': -71.082382,\n",
        "        'latitude': 42.365680,\n",
        "        'zoom': 10})\n",
        "map.add_dataset({'data':joined_data, 'label':'baseline BGs'})\n",
        "map.add_dataset({'data':volpe, 'label':'interactive area'})"
      ],
      "metadata": {
        "id": "2JE7_lc0d79I",
        "colab": {
          "base_uri": "https://localhost:8080/",
          "height": 54
        },
        "outputId": "4b8579c9-97c2-4163-b195-90225b9b1c5e"
      },
      "execution_count": null,
      "outputs": [
        {
          "output_type": "execute_result",
          "data": {
            "text/plain": [
              "<Future pending>"
            ]
          },
          "metadata": {},
          "execution_count": 16
        }
      ]
    },
    {
      "cell_type": "markdown",
      "source": [
        "# Density and Live-Work Ratio"
      ],
      "metadata": {
        "id": "gvR1BqxflV47"
      }
    },
    {
      "cell_type": "markdown",
      "source": [
        "Caculate some static inputs"
      ],
      "metadata": {
        "id": "3Cx-4DxqqxOv"
      }
    },
    {
      "cell_type": "code",
      "source": [
        "base_residents=joined_data['res_total'].sum()\n",
        "base_employees=joined_data['emp_total'].sum()\n",
        "site_area=joined_data['ALAND'].sum()/1e6"
      ],
      "metadata": {
        "id": "LE6s0wrLqwbr"
      },
      "execution_count": null,
      "outputs": []
    },
    {
      "cell_type": "code",
      "source": [
        "utm_zone=int(np.floor((-71.082382 + 180) / 6) + 1)\n",
        "total_footprint_area_sqm=volpe.to_crs(f\"+proj=utm +zone={utm_zone} +ellps=WGS84 +datum=WGS84 +units=m +no_defs\").geometry.area.sum()"
      ],
      "metadata": {
        "id": "Kx6NhsPJkMD-"
      },
      "execution_count": null,
      "outputs": []
    },
    {
      "cell_type": "markdown",
      "source": [
        "Assume values for:\n",
        "- % office\n",
        "- office sqm per person\n",
        "- Floors office\n",
        "- % residential\n",
        "- resi sqm per person\n",
        "- Floors Resi"
      ],
      "metadata": {
        "id": "15G3HjlLja4Q"
      }
    },
    {
      "cell_type": "code",
      "source": [
        "office_floors=20\n",
        "resi_floors=20\n",
        "sqm_pp_resi=100\n",
        "sqm_pp_office=100\n",
        "resi_perc=50"
      ],
      "metadata": {
        "id": "HPmnMRsCkK1T"
      },
      "execution_count": null,
      "outputs": []
    },
    {
      "cell_type": "code",
      "source": [
        "def get_lw_ratio(res, emp):\n",
        "  return int(10000*min(res/emp, emp/res))/10000\n",
        "\n",
        "\n",
        "def caclulate_indicators(office_floors, resi_floors, sqm_pp_resi,\n",
        "                         sqm_pp_office, resi_perc):\n",
        "  new_residents=total_footprint_area_sqm*(resi_perc/100)*resi_floors/sqm_pp_resi\n",
        "  new_employees=total_footprint_area_sqm*(1-resi_perc/100)*office_floors/sqm_pp_office\n",
        "\n",
        "  print('Residential Density from {} to {}'.format(\n",
        "      base_residents/site_area, (base_residents+new_residents)/site_area))\n",
        "  print('Employmnent Density from {} to {}'.format(\n",
        "      base_employees/site_area, (base_employees+new_employees)/site_area))\n",
        "\n",
        "  old_lw_ratio=get_lw_ratio(base_residents, base_employees)\n",
        "  new_lw_ratio=get_lw_ratio(base_residents+new_residents, base_employees+new_employees)\n",
        "  print('Live-Work Ratio from {} to {}'.format(\n",
        "      old_lw_ratio, new_lw_ratio))"
      ],
      "metadata": {
        "id": "e1wb62eql8A0"
      },
      "execution_count": null,
      "outputs": []
    },
    {
      "cell_type": "code",
      "source": [
        "caclulate_indicators(office_floors=office_floors,\n",
        "                     resi_floors=resi_floors,\n",
        "                     sqm_pp_resi=sqm_pp_resi,\n",
        "                     sqm_pp_office=sqm_pp_office,\n",
        "                     resi_perc=resi_perc)\n",
        "\n"
      ],
      "metadata": {
        "id": "5UPRxPYOnkwn",
        "colab": {
          "base_uri": "https://localhost:8080/"
        },
        "outputId": "64f9ac63-01ae-4315-8a8f-ff23c54d0552"
      },
      "execution_count": null,
      "outputs": [
        {
          "output_type": "stream",
          "name": "stdout",
          "text": [
            "Residential Density from 3705.4366411094443 to 3818.0582365227438\n",
            "Employmnent Density from 12293.960706610138 to 12406.582302023438\n",
            "Live-Work Ratio from 0.3014 to 0.3077\n"
          ]
        }
      ]
    },
    {
      "cell_type": "markdown",
      "source": [
        "## Exercise: create the interative model using widgets"
      ],
      "metadata": {
        "id": "9as2Gnxf_HE8"
      }
    },
    {
      "cell_type": "markdown",
      "source": [
        "# Proximity Analysis\n",
        "## Baseline\n",
        "Use the same process used in the last workshop to calculate the baseline proximity\n",
        "- Create the pandana network from the node and edge tables (and preprocess)\n",
        "- Assign attributes from our spatial data (eg. numbers of jobs) to nodes on the the network\n",
        "- Aggregate these attributes over a search radius (eg. a 10 minute walking distance)"
      ],
      "metadata": {
        "id": "EvADKoWoszUd"
      }
    },
    {
      "cell_type": "code",
      "source": [
        "max_dist=800\n",
        "\n",
        "nodes_df,edges_df=osmnet.load.network_from_bbox(\n",
        "    lat_min=lat_min, lng_min=lng_min, lat_max=lat_max, lng_max=lng_max,\n",
        "    network_type='drive',\n",
        "    two_way=True)\n",
        "\n",
        "net=pandana.Network(nodes_df[\"x\"], nodes_df[\"y\"], edges_df[\"from\"], edges_df[\"to\"],\n",
        "                 edges_df[[\"distance\"]])\n",
        "\n",
        "centroids=joined_data.geometry.centroid\n",
        "joined_data['x_centroid']=[c.x for c in centroids]\n",
        "joined_data['y_centroid']=[c.y for c in centroids]\n",
        "\n",
        "closest_node_ids = net.get_node_ids(x_col=joined_data['x_centroid'],\n",
        "                                y_col=joined_data['y_centroid'])\n",
        "joined_data['central_node']=closest_node_ids\n",
        "\n",
        "net.set(closest_node_ids, variable=joined_data['emp_total'], name='emp_total')\n",
        "\n",
        "proximity_to_jobs=net.aggregate(distance=max_dist, type=\"sum\",\n",
        "                        decay=\"flat\", name='emp_total')\n",
        "\n",
        "nodes_df['jobs_prox']=proximity_to_jobs"
      ],
      "metadata": {
        "id": "qbR5MtUZs3rW",
        "colab": {
          "base_uri": "https://localhost:8080/"
        },
        "outputId": "66982cb4-f965-44d6-b659-caf0593384b8"
      },
      "execution_count": null,
      "outputs": [
        {
          "output_type": "stream",
          "name": "stderr",
          "text": [
            "/usr/local/lib/python3.7/dist-packages/osmnet/load.py:445: FutureWarning: Assigning CRS to a GeoDataFrame without a geometry column is now deprecated and will not be supported in the future.\n",
            "  gdf.crs = crs\n",
            "/usr/local/lib/python3.7/dist-packages/pyproj/crs/crs.py:131: FutureWarning: '+init=<authority>:<code>' syntax is deprecated. '<authority>:<code>' is the preferred initialization method. When making the change, be mindful of axis order changes: https://pyproj4.github.io/pyproj/stable/gotchas.html#axis-order-changes-in-proj-6\n",
            "  in_crs_string = _prepare_from_proj_string(in_crs_string)\n",
            "/usr/local/lib/python3.7/dist-packages/osmnet/load.py:445: FutureWarning: Assigning CRS to a GeoDataFrame without a geometry column is now deprecated and will not be supported in the future.\n",
            "  gdf.crs = crs\n",
            "/usr/local/lib/python3.7/dist-packages/osmnet/load.py:147: ShapelyDeprecationWarning: __len__ for multi-part geometries is deprecated and will be removed in Shapely 2.0. Check the length of the `geoms` property instead to get the  number of parts of a multi-part geometry.\n",
            "  'in {:,} request(s)'.format(len(geometry)))\n",
            "/usr/local/lib/python3.7/dist-packages/osmnet/load.py:151: ShapelyDeprecationWarning: Iteration over multi-part geometries is deprecated and will be removed in Shapely 2.0. Use the `geoms` property to access the constituent parts of a multi-part geometry.\n",
            "  for poly in geometry:\n"
          ]
        },
        {
          "output_type": "stream",
          "name": "stdout",
          "text": [
            "Requesting network data within bounding box from Overpass API in 1 request(s)\n",
            "Posting to http://www.overpass-api.de/api/interpreter with timeout=180, \"{'data': '[out:json][timeout:180];(way[\"highway\"][\"highway\"!~\"cycleway|footway|path|pedestrian|steps|track|proposed|construction|bridleway|abandoned|platform|raceway|service\"][\"motor_vehicle\"!~\"no\"][\"motorcar\"!~\"no\"][\"service\"!~\"parking|parking_aisle|driveway|emergency_access\"](42.34000000,-71.14000000,42.40000000,-71.05000000);>;);out;'}\"\n",
            "Downloaded 7,559.1KB from www.overpass-api.de in 3.30 seconds\n"
          ]
        },
        {
          "output_type": "stream",
          "name": "stderr",
          "text": [
            "/usr/local/lib/python3.7/dist-packages/osmnet/load.py:171: ShapelyDeprecationWarning: __len__ for multi-part geometries is deprecated and will be removed in Shapely 2.0. Check the length of the `geoms` property instead to get the  number of parts of a multi-part geometry.\n",
            "  ' {:,.2f} seconds'.format(len(geometry), time.time()-start_time))\n"
          ]
        },
        {
          "output_type": "stream",
          "name": "stdout",
          "text": [
            "Downloaded OSM network data within bounding box from Overpass API in 1 request(s) and 3.51 seconds\n",
            "Returning OSM data with 38,783 nodes and 6,127 ways...\n",
            "Edge node pairs completed. Took 6.77 seconds\n",
            "Returning processed graph with 6,101 nodes and 8,757 edges...\n",
            "Completed OSM data download and Pandana node and edge table creation in 11.06 seconds\n"
          ]
        },
        {
          "output_type": "stream",
          "name": "stderr",
          "text": [
            "/usr/local/lib/python3.7/dist-packages/ipykernel_launcher.py:11: UserWarning: Geometry is in a geographic CRS. Results from 'centroid' are likely incorrect. Use 'GeoSeries.to_crs()' to re-project geometries to a projected CRS before this operation.\n",
            "\n",
            "  # This is added back by InteractiveShellApp.init_path()\n"
          ]
        }
      ]
    },
    {
      "cell_type": "code",
      "source": [
        "nodes_df['jobs_prox'].head()"
      ],
      "metadata": {
        "colab": {
          "base_uri": "https://localhost:8080/"
        },
        "id": "U1E6gNYsU2Tr",
        "outputId": "a5e6fd2e-2348-4c5d-f132-70c43dc795a0"
      },
      "execution_count": null,
      "outputs": [
        {
          "output_type": "execute_result",
          "data": {
            "text/plain": [
              "id\n",
              "61151272    4109.0\n",
              "61151274    2658.0\n",
              "61155415     716.0\n",
              "61155754    5985.0\n",
              "61170312    3180.0\n",
              "Name: jobs_prox, dtype: float64"
            ]
          },
          "metadata": {},
          "execution_count": 24
        }
      ]
    },
    {
      "cell_type": "markdown",
      "source": [
        "## Add the newly created \"resources\"\n",
        "We need to tell the model\n",
        "- the node where the resouce is located\n",
        "- the size of the resource"
      ],
      "metadata": {
        "id": "Nt-yxchH_8mv"
      }
    },
    {
      "cell_type": "code",
      "source": [
        "volpe_closest_node = net.get_node_ids(x_col=volpe.geometry.centroid.x,\n",
        "                                y_col=volpe.geometry.centroid.y)\n",
        "closest_node_ids=pd.concat([closest_node_ids, volpe_closest_node])"
      ],
      "metadata": {
        "id": "4EkkBVhKSn3a",
        "colab": {
          "base_uri": "https://localhost:8080/"
        },
        "outputId": "2a7facb6-ab2d-48ce-e9b6-7774e1909037"
      },
      "execution_count": null,
      "outputs": [
        {
          "output_type": "stream",
          "name": "stderr",
          "text": [
            "/usr/local/lib/python3.7/dist-packages/ipykernel_launcher.py:1: UserWarning: Geometry is in a geographic CRS. Results from 'centroid' are likely incorrect. Use 'GeoSeries.to_crs()' to re-project geometries to a projected CRS before this operation.\n",
            "\n",
            "  \"\"\"Entry point for launching an IPython kernel.\n",
            "/usr/local/lib/python3.7/dist-packages/ipykernel_launcher.py:2: UserWarning: Geometry is in a geographic CRS. Results from 'centroid' are likely incorrect. Use 'GeoSeries.to_crs()' to re-project geometries to a projected CRS before this operation.\n",
            "\n",
            "  \n"
          ]
        }
      ]
    },
    {
      "cell_type": "markdown",
      "source": [
        "Create function to update the proximity analysis for a given set of parameters"
      ],
      "metadata": {
        "id": "FSvkE5KwAOFe"
      }
    },
    {
      "cell_type": "code",
      "source": [
        "def update_emp_proximity(office_floors, resi_floors, sqm_pp_resi,\n",
        "                         sqm_pp_office, resi_perc):\n",
        "\n",
        "  # Insert code here\n",
        "\n",
        "  # Calculate the number of new employees in Volpe\n",
        "  new_employees=total_footprint_area_sqm*(1-resi_perc/100)*office_floors/sqm_pp_office\n",
        "  # Use net.set(..) with the extended list of employees numbers\n",
        "  net.set(closest_node_ids, variable=list(joined_data['emp_total'])+[new_employees], name='emp_total')\n",
        "\n",
        "  # run the net.aggregate function to get proximity_to_jobs\n",
        "  proximity_to_jobs=net.aggregate(distance=max_dist, type=\"sum\",\n",
        "                        decay=\"flat\", name='emp_total')\n",
        "\n",
        "  nodes_df['jobs_prox']=proximity_to_jobs\n",
        "\n",
        "  map.add_dataset({'data':nodes_df, 'uuid': jobs_id, 'label': 'jobs'}, auto_create_layers = False)"
      ],
      "metadata": {
        "id": "KhFROOqKjGh2"
      },
      "execution_count": null,
      "outputs": []
    },
    {
      "cell_type": "code",
      "source": [
        "map = UnfoldedMap()\n",
        "map.add_dataset({'data':volpe, 'label':'interactive area'})\n",
        "map.set_view_state({'longitude': -71.082382,'latitude': 42.365680,'zoom': 12})\n",
        "jobs_id=uuid4()\n",
        "map.add_dataset({'data':nodes_df, 'uuid': jobs_id, 'label': 'jobs'}, auto_create_layers = False)\n",
        "map.add_layer({\n",
        "    'id': 'proximity_color',\n",
        "    'type': 'point',\n",
        "    'config': {\n",
        "        'data_id': jobs_id,\n",
        "        'label': 'proximity to jobs',\n",
        "        'columns': {'lat': 'y','lng': 'x'},\n",
        "        'is_visible': True,\n",
        "        'color_field': {'name': 'jobs_prox', 'type': 'real'},\n",
        "        'color_scale': 'quantize'\n",
        "    }\n",
        "})\n",
        "map"
      ],
      "metadata": {
        "id": "quhMNtBvlrgy",
        "colab": {
          "base_uri": "https://localhost:8080/",
          "height": 542,
          "referenced_widgets": [
            "da3a92538a78460f9fe5506477fc98bc",
            "d90d0ecd31ec4a699d480b6a8a607eb4"
          ]
        },
        "outputId": "b56981e7-2b04-4a9e-d290-181435d88103"
      },
      "execution_count": null,
      "outputs": [
        {
          "output_type": "display_data",
          "data": {
            "text/plain": [
              "UnfoldedMap()"
            ],
            "application/vnd.jupyter.widget-view+json": {
              "version_major": 2,
              "version_minor": 0,
              "model_id": "da3a92538a78460f9fe5506477fc98bc"
            }
          },
          "metadata": {
            "application/vnd.jupyter.widget-view+json": {
              "colab": {
                "custom_widget_manager": {
                  "url": "https://ssl.gstatic.com/colaboratory-static/widgets/colab-cdn-widget-manager/a8874ba6619b6106/manager.min.js"
                }
              }
            }
          }
        }
      ]
    },
    {
      "cell_type": "code",
      "source": [
        "interact(update_emp_proximity, office_floors=widgets.IntSlider(min=0, max=100, step=1, value=10),resi_floors=widgets.IntSlider(min=0, max=100, step=1, value=10),\n",
        "         sqm_pp_resi=widgets.IntSlider(min=50, max=200, step=5, value=100),sqm_pp_office=widgets.IntSlider(min=50, max=200, step=5, value=100),resi_perc=widgets.IntSlider(min=0, max=100, step=1, value=50))"
      ],
      "metadata": {
        "id": "mTg4A3I8UdAX",
        "colab": {
          "base_uri": "https://localhost:8080/",
          "height": 213,
          "referenced_widgets": [
            "71f33323cc4946ef85fbac6d3de8931b",
            "1629f68f47c7420a80d0ae28971e22f9",
            "60a47bcb22e744dbb7a331f99aac8479",
            "ce07f88e34264b13b818f4bf93c801e9",
            "0af610fe6dce4e499ac5208921fcec71",
            "f3add395fade45c6bb869d11b4b69bce",
            "a824be678d0d44b687b9451eabf39a2a",
            "56f9f90e72204eefaa1890487b7e8bc2",
            "ea0ecd236a0943ba9fb3a59dc16bceef",
            "d0d661851ec24b15aa6315fa94a71f97",
            "221fd1a492ae43e4a09e2bd8dada1cf1",
            "2320b5bcfe1441288707f1f97870d7c9",
            "b9e326f1ef7f40be8dcca09a9e59a414",
            "da6ac413b6084f5ea3b262e7e82b9b7e",
            "5954941233014759a2b4e60c2e605e91",
            "6c664121738249c78fb9b435c1ed9bc3",
            "8e7d15d1ec714143892aa7df1fff1c95",
            "cea98a8b8f8140acb18a31384d105cc9",
            "073dc44627f8471bb5af69db6b16d6e1"
          ]
        },
        "outputId": "afee2fc1-f4da-4d52-c2f1-db7a26c0e447"
      },
      "execution_count": null,
      "outputs": [
        {
          "output_type": "display_data",
          "data": {
            "text/plain": [
              "interactive(children=(IntSlider(value=10, description='office_floors'), IntSlider(value=10, description='resi_…"
            ],
            "application/vnd.jupyter.widget-view+json": {
              "version_major": 2,
              "version_minor": 0,
              "model_id": "71f33323cc4946ef85fbac6d3de8931b"
            }
          },
          "metadata": {
            "application/vnd.jupyter.widget-view+json": {
              "colab": {
                "custom_widget_manager": {
                  "url": "https://ssl.gstatic.com/colaboratory-static/widgets/colab-cdn-widget-manager/a8874ba6619b6106/manager.min.js"
                }
              }
            }
          }
        },
        {
          "output_type": "execute_result",
          "data": {
            "text/plain": [
              "<function __main__.update_emp_proximity>"
            ]
          },
          "metadata": {},
          "execution_count": 28
        }
      ]
    }
  ]
}